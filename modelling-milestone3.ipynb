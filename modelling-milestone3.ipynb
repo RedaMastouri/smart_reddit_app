{
 "cells": [
  {
   "cell_type": "markdown",
   "id": "e55a4389",
   "metadata": {},
   "source": [
    "# Examination of Digital Community Conversations Within Specific Disease States Via Reddit"
   ]
  },
  {
   "cell_type": "markdown",
   "id": "2fc7424f",
   "metadata": {},
   "source": [
    "- **Vision**: Development of a repeatable process for the analysis of Reddit conversations\n",
    "within specific condition and/or disease state with applicable threads and subreddit\n",
    "threads (subreddits) to potentially inform strategy and content development. Create a\n",
    "simplified and repeatable process that does not require the users to be fluent in Reddit.\n",
    "- **Issue**: While Reddit offers robust, open, and community-minded discussions surrounding\n",
    "conditions and disease states, Reddit also provides volumes of unstructured and\n",
    "unclassified data. The development of a repeatable process – that continues to monitor\n",
    "evolving conversations over time – currently requires multiple tools (ex. – tools to scrape\n",
    "threads, tools to analyze keyword content, tools to analyze sentiment, etc.).\n",
    "- **Method**: After identifying priority conditions and/or disease states with active Reddit\n",
    "communities (ex. – prostate cancer, breast cancer, HIV, etc.), build relational taxonomy\n",
    "(ex. – medicine, treatment, and adherence all have specific topics but have relational\n",
    "discussions) of topical themes addressed within.\n",
    "- **Potential Output**: Provide use case for healthcare companies on the importance of\n",
    "Reddit as an early source of social indicator of trends and conversational “lexicon” to be\n",
    "used for patient communications and programs."
   ]
  },
  {
   "cell_type": "markdown",
   "id": "8a435c5c",
   "metadata": {},
   "source": [
    "# <font color='Green'><center>Milestone 3: Modelling</font>"
   ]
  },
  {
   "cell_type": "code",
   "execution_count": 1,
   "id": "0aff1c1b",
   "metadata": {},
   "outputs": [
    {
     "data": {
      "image/png": "[encoded data removed]",
      "text/plain": [
       "<IPython.core.display.Image object>"
      ]
     },
     "execution_count": 1,
     "metadata": {},
     "output_type": "execute_result"
    }
   ],
   "source": [
    "from IPython.display import Image\n",
    "Image(filename='img/logo.png')"
   ]
  },
  {
   "cell_type": "code",
   "execution_count": 3,
   "id": "7fd5ba98",
   "metadata": {},
   "outputs": [],
   "source": [
    "'''\n",
    "Needed librairies\n",
    "'''\n",
    "import requests\n",
    "import pandas as pd\n",
    "import numpy as np\n",
    "\n",
    "'''\n",
    "Data analysis and Wrangling\n",
    "'''\n",
    "import pandas as pd\n",
    "import numpy as np\n",
    "import random as rnd\n",
    "from datetime import date, datetime, time, timedelta\n",
    "import datetime as dt\n",
    "\n",
    "# visualization\n",
    "import seaborn as sns\n",
    "import matplotlib.pyplot as plt\n",
    "import seaborn as sb\n",
    "import matplotlib.ticker as mtic\n",
    "import matplotlib.pyplot as plot\n",
    "%matplotlib inline\n",
    "\n",
    "# machine learning\n",
    "from sklearn.linear_model import LogisticRegression\n",
    "from sklearn.svm import SVC, LinearSVC\n",
    "from sklearn.ensemble import RandomForestClassifier\n",
    "from sklearn.neighbors import KNeighborsClassifier\n",
    "from sklearn.naive_bayes import GaussianNB\n",
    "from sklearn.linear_model import Perceptron\n",
    "from sklearn.linear_model import SGDClassifier\n",
    "from sklearn.tree import DecisionTreeClassifier\n",
    "\n",
    "\n",
    "# Iextras\n",
    "\n",
    "import nltk\n",
    "import matplotlib.pyplot as plt\n",
    "import seaborn\n",
    "from sklearn.feature_extraction.text import CountVectorizer\n",
    "from sklearn.feature_extraction.text import TfidfVectorizer\n",
    "from wordcloud import WordCloud, STOPWORDS\n",
    "from sklearn.svm import SVC\n",
    "from sklearn.linear_model import LogisticRegression\n",
    "from sklearn.naive_bayes import MultinomialNB\n",
    "from sklearn.metrics import classification_report,confusion_matrix,accuracy_score,plot_confusion_matrix\n",
    "from sklearn.model_selection import train_test_split\n",
    "from string import punctuation\n",
    "from bs4 import BeautifulSoup\n",
    "import re,string,unicodedata\n",
    "from nltk import pos_tag\n",
    "from nltk.tokenize import word_tokenize, sent_tokenize\n",
    "from nltk.stem.porter import PorterStemmer\n",
    "from nltk.corpus import wordnet, stopwords\n",
    "from nltk.stem import WordNetLemmatizer\n"
   ]
  },
  {
   "cell_type": "code",
   "execution_count": 4,
   "id": "6b3ac76f",
   "metadata": {},
   "outputs": [
    {
     "name": "stderr",
     "output_type": "stream",
     "text": [
      "C:\\Users\\rmastour\\Anaconda3\\lib\\site-packages\\pandas\\core\\internals\\construction.py:540: VisibleDeprecationWarning: Creating an ndarray from ragged nested sequences (which is a list-or-tuple of lists-or-tuples-or ndarrays with different lengths or shapes) is deprecated. If you meant to do this, you must specify 'dtype=object' when creating the ndarray.\n",
      "  values = np.array([convert(v) for v in values])\n"
     ]
    }
   ],
   "source": [
    "'''\n",
    "Importing the data from: dataset-milestone1\n",
    "'''\n",
    "#from dataset_milestone1 import df\n",
    "from cancer_dataset import cancer as df"
   ]
  },
  {
   "cell_type": "code",
   "execution_count": 5,
   "id": "fb67cada",
   "metadata": {},
   "outputs": [
    {
     "data": {
      "text/html": [
       "<div>\n",
       "<style scoped>\n",
       "    .dataframe tbody tr th:only-of-type {\n",
       "        vertical-align: middle;\n",
       "    }\n",
       "\n",
       "    .dataframe tbody tr th {\n",
       "        vertical-align: top;\n",
       "    }\n",
       "\n",
       "    .dataframe thead th {\n",
       "        text-align: right;\n",
       "    }\n",
       "</style>\n",
       "<table border=\"1\" class=\"dataframe\">\n",
       "  <thead>\n",
       "    <tr style=\"text-align: right;\">\n",
       "      <th></th>\n",
       "      <th>title</th>\n",
       "      <th>score</th>\n",
       "      <th>id</th>\n",
       "      <th>subreddit</th>\n",
       "      <th>url</th>\n",
       "      <th>num_comments</th>\n",
       "      <th>body</th>\n",
       "      <th>created</th>\n",
       "      <th>UID</th>\n",
       "      <th>comments</th>\n",
       "    </tr>\n",
       "  </thead>\n",
       "  <tbody>\n",
       "    <tr>\n",
       "      <th>66</th>\n",
       "      <td>Today is my 10th Cancerversay - diagnosed with...</td>\n",
       "      <td>202</td>\n",
       "      <td>jlosty</td>\n",
       "      <td>cancer</td>\n",
       "      <td>https://www.reddit.com/r/cancer/comments/jlost...</td>\n",
       "      <td>35</td>\n",
       "      <td>I (38M) got my biopsy results 10 years ago on ...</td>\n",
       "      <td>2020-10-31 19:46:51+00:00</td>\n",
       "      <td>96</td>\n",
       "      <td>...</td>\n",
       "    </tr>\n",
       "    <tr>\n",
       "      <th>67</th>\n",
       "      <td>Male cancer nurse here</td>\n",
       "      <td>199</td>\n",
       "      <td>jkk09e</td>\n",
       "      <td>cancer</td>\n",
       "      <td>https://www.reddit.com/r/cancer/comments/jkk09...</td>\n",
       "      <td>36</td>\n",
       "      <td>I have a patient. 30M with Metastatic Rhabdomy...</td>\n",
       "      <td>2020-10-29 22:10:21+00:00</td>\n",
       "      <td>97</td>\n",
       "      <td>...</td>\n",
       "    </tr>\n",
       "    <tr>\n",
       "      <th>68</th>\n",
       "      <td>I’m kicking colon cancer’s ass one day at a time!</td>\n",
       "      <td>201</td>\n",
       "      <td>apkwpq</td>\n",
       "      <td>cancer</td>\n",
       "      <td>https://www.reddit.com/r/cancer/comments/apkwp...</td>\n",
       "      <td>33</td>\n",
       "      <td>I had surgery on Friday to remove the cancerou...</td>\n",
       "      <td>2019-02-11 20:56:26+00:00</td>\n",
       "      <td>98</td>\n",
       "      <td>...</td>\n",
       "    </tr>\n",
       "    <tr>\n",
       "      <th>69</th>\n",
       "      <td>Hi, I'm NED!!</td>\n",
       "      <td>200</td>\n",
       "      <td>l7xc0p</td>\n",
       "      <td>cancer</td>\n",
       "      <td>https://www.reddit.com/r/cancer/comments/l7xc0...</td>\n",
       "      <td>44</td>\n",
       "      <td>Last year I was diagnosed with Stage 4 bowel c...</td>\n",
       "      <td>2021-01-29 16:46:41+00:00</td>\n",
       "      <td>99</td>\n",
       "      <td>...</td>\n",
       "    </tr>\n",
       "    <tr>\n",
       "      <th>70</th>\n",
       "      <td>\"Currently, you no longer have cancer cells in...</td>\n",
       "      <td>198</td>\n",
       "      <td>hqbplk</td>\n",
       "      <td>cancer</td>\n",
       "      <td>https://www.reddit.com/r/cancer/comments/hqbpl...</td>\n",
       "      <td>57</td>\n",
       "      <td>I was diagnosed with ovarian cancer stage 2b a...</td>\n",
       "      <td>2020-07-13 08:40:21+00:00</td>\n",
       "      <td>100</td>\n",
       "      <td>...</td>\n",
       "    </tr>\n",
       "  </tbody>\n",
       "</table>\n",
       "</div>"
      ],
      "text/plain": [
       "                                                title  score      id  \\\n",
       "66  Today is my 10th Cancerversay - diagnosed with...    202  jlosty   \n",
       "67                             Male cancer nurse here    199  jkk09e   \n",
       "68  I’m kicking colon cancer’s ass one day at a time!    201  apkwpq   \n",
       "69                                      Hi, I'm NED!!    200  l7xc0p   \n",
       "70  \"Currently, you no longer have cancer cells in...    198  hqbplk   \n",
       "\n",
       "   subreddit                                                url  num_comments  \\\n",
       "66    cancer  https://www.reddit.com/r/cancer/comments/jlost...            35   \n",
       "67    cancer  https://www.reddit.com/r/cancer/comments/jkk09...            36   \n",
       "68    cancer  https://www.reddit.com/r/cancer/comments/apkwp...            33   \n",
       "69    cancer  https://www.reddit.com/r/cancer/comments/l7xc0...            44   \n",
       "70    cancer  https://www.reddit.com/r/cancer/comments/hqbpl...            57   \n",
       "\n",
       "                                                 body  \\\n",
       "66  I (38M) got my biopsy results 10 years ago on ...   \n",
       "67  I have a patient. 30M with Metastatic Rhabdomy...   \n",
       "68  I had surgery on Friday to remove the cancerou...   \n",
       "69  Last year I was diagnosed with Stage 4 bowel c...   \n",
       "70  I was diagnosed with ovarian cancer stage 2b a...   \n",
       "\n",
       "                     created  UID  \\\n",
       "66 2020-10-31 19:46:51+00:00   96   \n",
       "67 2020-10-29 22:10:21+00:00   97   \n",
       "68 2019-02-11 20:56:26+00:00   98   \n",
       "69 2021-01-29 16:46:41+00:00   99   \n",
       "70 2020-07-13 08:40:21+00:00  100   \n",
       "\n",
       "                                             comments  \n",
       "66                                                ...  \n",
       "67                                                ...  \n",
       "68                                                ...  \n",
       "69                                                ...  \n",
       "70                                                ...  "
      ]
     },
     "execution_count": 5,
     "metadata": {},
     "output_type": "execute_result"
    }
   ],
   "source": [
    "df.tail()"
   ]
  },
  {
   "cell_type": "code",
   "execution_count": 6,
   "id": "1263cf5a",
   "metadata": {},
   "outputs": [],
   "source": [
    "#df  = df.comments.iloc[:][1]"
   ]
  },
  {
   "cell_type": "code",
   "execution_count": 170,
   "id": "1a3a7330",
   "metadata": {},
   "outputs": [],
   "source": [
    "import pandas as pd\n",
    "import praw\n",
    "from praw.models import MoreComments\n",
    "\n",
    "reddit = praw.Reddit(client_id='5PtLw2OXKn8K-lTmDq8WaA',\n",
    "     client_secret='jxi9Ob2bO6axkXP_eKKQH4tFO5t9Rg',\n",
    "     username='raymastouri',\n",
    "     password='M@$t0ur1198700rq',\n",
    "     user_agent='PatientCom/0.0.1'\n",
    ")\n",
    "\n",
    "top_post = []\n",
    "subreddit = reddit.subreddit('cancer')\n",
    "for post in subreddit.top(limit=None):\n",
    "    comments = []\n",
    "    for comment in post.comments:\n",
    "        if isinstance(comment, MoreComments):\n",
    "            continue        \n",
    "        comments.append(comment.body)\n",
    "    top_post.append([post.title, post.score, post.id, post.subreddit, post.url, post.num_comments, post.selftext, post.created,comments])\n",
    "top_posts = pd.DataFrame(top_post,columns=['title', 'score', 'id', 'subreddit', 'url', 'num_comments', 'body', 'created','comments'])"
   ]
  },
  {
   "cell_type": "code",
   "execution_count": 258,
   "id": "a10845dc",
   "metadata": {},
   "outputs": [
    {
     "data": {
      "text/html": [
       "<div>\n",
       "<style scoped>\n",
       "    .dataframe tbody tr th:only-of-type {\n",
       "        vertical-align: middle;\n",
       "    }\n",
       "\n",
       "    .dataframe tbody tr th {\n",
       "        vertical-align: top;\n",
       "    }\n",
       "\n",
       "    .dataframe thead th {\n",
       "        text-align: right;\n",
       "    }\n",
       "</style>\n",
       "<table border=\"1\" class=\"dataframe\">\n",
       "  <thead>\n",
       "    <tr style=\"text-align: right;\">\n",
       "      <th></th>\n",
       "      <th>title</th>\n",
       "      <th>score</th>\n",
       "      <th>id</th>\n",
       "      <th>subreddit</th>\n",
       "      <th>url</th>\n",
       "      <th>num_comments</th>\n",
       "      <th>body</th>\n",
       "      <th>created</th>\n",
       "      <th>comments</th>\n",
       "    </tr>\n",
       "  </thead>\n",
       "  <tbody>\n",
       "    <tr>\n",
       "      <th>0</th>\n",
       "      <td>Today is the Day After - Resectioning Surgery ...</td>\n",
       "      <td>633</td>\n",
       "      <td>gsrovh</td>\n",
       "      <td>cancer</td>\n",
       "      <td>https://i.imgur.com/8bc83Eu.jpg</td>\n",
       "      <td>81</td>\n",
       "      <td></td>\n",
       "      <td>1.590754e+09</td>\n",
       "      <td>[All the best and good luck for the future.Bes...</td>\n",
       "    </tr>\n",
       "    <tr>\n",
       "      <th>1</th>\n",
       "      <td>I’m not ready.</td>\n",
       "      <td>612</td>\n",
       "      <td>9isza1</td>\n",
       "      <td>cancer</td>\n",
       "      <td>https://www.reddit.com/r/cancer/comments/9isza...</td>\n",
       "      <td>82</td>\n",
       "      <td>In 2016 I was diagnosed with stage 4 of a seve...</td>\n",
       "      <td>1.537888e+09</td>\n",
       "      <td>[Have you thought about making a video and lea...</td>\n",
       "    </tr>\n",
       "    <tr>\n",
       "      <th>2</th>\n",
       "      <td>I’ve got 2-4 weeks to live, we’re in the end g...</td>\n",
       "      <td>581</td>\n",
       "      <td>m1h5h5</td>\n",
       "      <td>cancer</td>\n",
       "      <td>https://www.reddit.com/r/cancer/comments/m1h5h...</td>\n",
       "      <td>150</td>\n",
       "      <td>Hey everyone you might have seen my post on he...</td>\n",
       "      <td>1.615326e+09</td>\n",
       "      <td>[How's your appetite? You should try a bunch o...</td>\n",
       "    </tr>\n",
       "    <tr>\n",
       "      <th>3</th>\n",
       "      <td>Dr. gave me 11% survival rate. I give myself a...</td>\n",
       "      <td>501</td>\n",
       "      <td>cfdqdl</td>\n",
       "      <td>cancer</td>\n",
       "      <td>https://imgur.com/El4KQQb</td>\n",
       "      <td>57</td>\n",
       "      <td></td>\n",
       "      <td>1.563573e+09</td>\n",
       "      <td>[Nice. I had 15% three years ago to make it on...</td>\n",
       "    </tr>\n",
       "    <tr>\n",
       "      <th>4</th>\n",
       "      <td>It's been a difficult year with my husband bat...</td>\n",
       "      <td>478</td>\n",
       "      <td>my9u3m</td>\n",
       "      <td>cancer</td>\n",
       "      <td>https://www.reddit.com/gallery/my9u3m</td>\n",
       "      <td>34</td>\n",
       "      <td></td>\n",
       "      <td>1.619362e+09</td>\n",
       "      <td>[Awww looks like he's got a pretty good friend...</td>\n",
       "    </tr>\n",
       "    <tr>\n",
       "      <th>...</th>\n",
       "      <td>...</td>\n",
       "      <td>...</td>\n",
       "      <td>...</td>\n",
       "      <td>...</td>\n",
       "      <td>...</td>\n",
       "      <td>...</td>\n",
       "      <td>...</td>\n",
       "      <td>...</td>\n",
       "      <td>...</td>\n",
       "    </tr>\n",
       "    <tr>\n",
       "      <th>995</th>\n",
       "      <td>Mum had her final Chemo session!</td>\n",
       "      <td>80</td>\n",
       "      <td>d2oj61</td>\n",
       "      <td>cancer</td>\n",
       "      <td>https://www.reddit.com/r/cancer/comments/d2oj6...</td>\n",
       "      <td>27</td>\n",
       "      <td>She got to ring a mini bell and everyone clapp...</td>\n",
       "      <td>1.568201e+09</td>\n",
       "      <td>[Congrats! One of the reasons I joined this su...</td>\n",
       "    </tr>\n",
       "    <tr>\n",
       "      <th>996</th>\n",
       "      <td>I can’t walk anymore.</td>\n",
       "      <td>76</td>\n",
       "      <td>ctr56w</td>\n",
       "      <td>cancer</td>\n",
       "      <td>https://www.reddit.com/r/cancer/comments/ctr56...</td>\n",
       "      <td>31</td>\n",
       "      <td>The chemo has taken my hearing, my teeth, and ...</td>\n",
       "      <td>1.566441e+09</td>\n",
       "      <td>[I’m so sorry for you. It’s a brutal disease. ...</td>\n",
       "    </tr>\n",
       "    <tr>\n",
       "      <th>997</th>\n",
       "      <td>Stage IV Colon Cancer w/Mets 'tis but a scratch</td>\n",
       "      <td>80</td>\n",
       "      <td>cewkw5</td>\n",
       "      <td>cancer</td>\n",
       "      <td>https://www.reddit.com/r/cancer/comments/cewkw...</td>\n",
       "      <td>28</td>\n",
       "      <td>Went to meet my Radiation Oncologist, yesterda...</td>\n",
       "      <td>1.563476e+09</td>\n",
       "      <td>[Great news! Thats really so great, getting to...</td>\n",
       "    </tr>\n",
       "    <tr>\n",
       "      <th>998</th>\n",
       "      <td>Ayyy beat cancer in 2 cycles</td>\n",
       "      <td>81</td>\n",
       "      <td>bsmpc3</td>\n",
       "      <td>cancer</td>\n",
       "      <td>https://www.reddit.com/r/cancer/comments/bsmpc...</td>\n",
       "      <td>24</td>\n",
       "      <td>My doctors just called, they don't see anythin...</td>\n",
       "      <td>1.558734e+09</td>\n",
       "      <td>[That's great news!! Congrats. :), Congratulat...</td>\n",
       "    </tr>\n",
       "    <tr>\n",
       "      <th>999</th>\n",
       "      <td>Finally some good news about my dad!!</td>\n",
       "      <td>75</td>\n",
       "      <td>b8s45z</td>\n",
       "      <td>cancer</td>\n",
       "      <td>https://www.reddit.com/r/cancer/comments/b8s45...</td>\n",
       "      <td>25</td>\n",
       "      <td>My dad called me and told me he was cures of h...</td>\n",
       "      <td>1.554257e+09</td>\n",
       "      <td>[Fuck yeah! 🎉 , Wowwwww!!! That’s literally in...</td>\n",
       "    </tr>\n",
       "  </tbody>\n",
       "</table>\n",
       "<p>1000 rows × 9 columns</p>\n",
       "</div>"
      ],
      "text/plain": [
       "                                                 title  score      id  \\\n",
       "0    Today is the Day After - Resectioning Surgery ...    633  gsrovh   \n",
       "1                                       I’m not ready.    612  9isza1   \n",
       "2    I’ve got 2-4 weeks to live, we’re in the end g...    581  m1h5h5   \n",
       "3    Dr. gave me 11% survival rate. I give myself a...    501  cfdqdl   \n",
       "4    It's been a difficult year with my husband bat...    478  my9u3m   \n",
       "..                                                 ...    ...     ...   \n",
       "995                   Mum had her final Chemo session!     80  d2oj61   \n",
       "996                              I can’t walk anymore.     76  ctr56w   \n",
       "997    Stage IV Colon Cancer w/Mets 'tis but a scratch     80  cewkw5   \n",
       "998                       Ayyy beat cancer in 2 cycles     81  bsmpc3   \n",
       "999              Finally some good news about my dad!!     75  b8s45z   \n",
       "\n",
       "    subreddit                                                url  \\\n",
       "0      cancer                    https://i.imgur.com/8bc83Eu.jpg   \n",
       "1      cancer  https://www.reddit.com/r/cancer/comments/9isza...   \n",
       "2      cancer  https://www.reddit.com/r/cancer/comments/m1h5h...   \n",
       "3      cancer                          https://imgur.com/El4KQQb   \n",
       "4      cancer              https://www.reddit.com/gallery/my9u3m   \n",
       "..        ...                                                ...   \n",
       "995    cancer  https://www.reddit.com/r/cancer/comments/d2oj6...   \n",
       "996    cancer  https://www.reddit.com/r/cancer/comments/ctr56...   \n",
       "997    cancer  https://www.reddit.com/r/cancer/comments/cewkw...   \n",
       "998    cancer  https://www.reddit.com/r/cancer/comments/bsmpc...   \n",
       "999    cancer  https://www.reddit.com/r/cancer/comments/b8s45...   \n",
       "\n",
       "     num_comments                                               body  \\\n",
       "0              81                                                      \n",
       "1              82  In 2016 I was diagnosed with stage 4 of a seve...   \n",
       "2             150  Hey everyone you might have seen my post on he...   \n",
       "3              57                                                      \n",
       "4              34                                                      \n",
       "..            ...                                                ...   \n",
       "995            27  She got to ring a mini bell and everyone clapp...   \n",
       "996            31  The chemo has taken my hearing, my teeth, and ...   \n",
       "997            28  Went to meet my Radiation Oncologist, yesterda...   \n",
       "998            24  My doctors just called, they don't see anythin...   \n",
       "999            25  My dad called me and told me he was cures of h...   \n",
       "\n",
       "          created                                           comments  \n",
       "0    1.590754e+09  [All the best and good luck for the future.Bes...  \n",
       "1    1.537888e+09  [Have you thought about making a video and lea...  \n",
       "2    1.615326e+09  [How's your appetite? You should try a bunch o...  \n",
       "3    1.563573e+09  [Nice. I had 15% three years ago to make it on...  \n",
       "4    1.619362e+09  [Awww looks like he's got a pretty good friend...  \n",
       "..            ...                                                ...  \n",
       "995  1.568201e+09  [Congrats! One of the reasons I joined this su...  \n",
       "996  1.566441e+09  [I’m so sorry for you. It’s a brutal disease. ...  \n",
       "997  1.563476e+09  [Great news! Thats really so great, getting to...  \n",
       "998  1.558734e+09  [That's great news!! Congrats. :), Congratulat...  \n",
       "999  1.554257e+09  [Fuck yeah! 🎉 , Wowwwww!!! That’s literally in...  \n",
       "\n",
       "[1000 rows x 9 columns]"
      ]
     },
     "execution_count": 258,
     "metadata": {},
     "output_type": "execute_result"
    }
   ],
   "source": [
    "top_posts"
   ]
  },
  {
   "cell_type": "code",
   "execution_count": 259,
   "id": "c5d46d4c",
   "metadata": {},
   "outputs": [],
   "source": [
    "df = top_posts.copy()"
   ]
  },
  {
   "cell_type": "code",
   "execution_count": 260,
   "id": "9b116b7a",
   "metadata": {},
   "outputs": [],
   "source": [
    "'''\n",
    "Making copies for the 3 modeling tasks \n",
    "'''\n",
    "df_model1= df.copy()\n",
    "df_model2= df.copy()\n",
    "df_model3= df.copy()"
   ]
  },
  {
   "cell_type": "code",
   "execution_count": 261,
   "id": "af70132f",
   "metadata": {},
   "outputs": [],
   "source": [
    "data = df.copy"
   ]
  },
  {
   "cell_type": "code",
   "execution_count": 262,
   "id": "65441cda",
   "metadata": {},
   "outputs": [
    {
     "data": {
      "text/plain": [
       "['Today is the Day After - Resectioning Surgery Complete. I am Cancer Free.']"
      ]
     },
     "execution_count": 262,
     "metadata": {},
     "output_type": "execute_result"
    }
   ],
   "source": [
    "# Convert to list\n",
    "import pprint\n",
    "\n",
    "df = df_model1.title.values.tolist()\n",
    "\n",
    "df = [re.sub('\\S*@\\S*\\s?', '', sent) for sent in df]\n",
    "\n",
    "# Remove new line characters\n",
    "df = [re.sub('\\s+', ' ', sent) for sent in df]\n",
    "\n",
    "# Remove distracting single quotes\n",
    "df = [re.sub(\"\\'\", \"\", sent) for sent in df]\n",
    "\n",
    "df[:1]"
   ]
  },
  {
   "cell_type": "code",
   "execution_count": 263,
   "id": "73ec9b93",
   "metadata": {},
   "outputs": [],
   "source": [
    "df = [re.sub(\"-\", \" \", sent) for sent in df]\n",
    "df = [re.sub(\":\", \"\", sent) for sent in df]"
   ]
  },
  {
   "cell_type": "code",
   "execution_count": 264,
   "id": "1b5d65b0",
   "metadata": {},
   "outputs": [],
   "source": [
    "def sent_to_words(sentences):\n",
    "    for sentence in sentences:\n",
    "        yield(gensim.utils.simple_preprocess(str(sentence), deacc=True))\n",
    "\n",
    "df_words = list(sent_to_words(df))"
   ]
  },
  {
   "cell_type": "code",
   "execution_count": 265,
   "id": "f0980417",
   "metadata": {},
   "outputs": [],
   "source": [
    "# Build the bigram and trigram models\n",
    "\n",
    "bigram = gensim.models.Phrases(df_words, min_count=5, threshold=100) # higher threshold fewer phrases.\n",
    "trigram = gensim.models.Phrases(bigram[df_words], threshold=100)  \n",
    "\n",
    "# Faster way to get a sentence clubbed as a trigram/bigram\n",
    "\n",
    "bigram_mod = gensim.models.phrases.Phraser(bigram)\n",
    "trigram_mod = gensim.models.phrases.Phraser(trigram)"
   ]
  },
  {
   "cell_type": "code",
   "execution_count": 266,
   "id": "e115401e",
   "metadata": {},
   "outputs": [],
   "source": [
    "def remove_stopwords(texts):\n",
    "    return [[word for word in simple_preprocess(str(doc)) if word not in stop_words] for doc in texts]\n",
    "\n",
    "def make_bigrams(texts):\n",
    "    return [bigram_mod[doc] for doc in texts]\n",
    "\n",
    "def make_trigrams(texts):\n",
    "    return [trigram_mod[bigram_mod[doc]] for doc in texts]\n",
    "\n",
    "def lemmatization(texts, allowed_postags=['NOUN', 'ADJ', 'VERB', 'ADV']):\n",
    "    texts_out = []\n",
    "    for sent in texts:\n",
    "        doc = nlp(\" \".join(sent)) \n",
    "        texts_out.append([token.lemma_ for token in doc if token.pos_ in allowed_postags])\n",
    "    return texts_out"
   ]
  },
  {
   "cell_type": "code",
   "execution_count": 267,
   "id": "bc4696b4",
   "metadata": {},
   "outputs": [],
   "source": [
    "# Remove Stop Words\n",
    "\n",
    "data_words_nostops = remove_stopwords(df_words)\n",
    "\n",
    "# Form Bigrams\n",
    "\n",
    "data_words_bigrams = make_bigrams(data_words_nostops)\n",
    "\n",
    "nlp = spacy.load('en_core_web_sm', disable=['parser', 'ner'])\n",
    "\n",
    "data_lemmatized = lemmatization(data_words_bigrams, allowed_postags=['NOUN', 'ADJ', 'VERB', 'ADV'])"
   ]
  },
  {
   "cell_type": "code",
   "execution_count": 268,
   "id": "b40217b2",
   "metadata": {},
   "outputs": [],
   "source": [
    "# Create Dictionary\n",
    "id2word = corpora.Dictionary(data_lemmatized)\n",
    "\n",
    "# Create Corpus\n",
    "texts = data_lemmatized\n",
    "\n",
    "# Term Document Frequency\n",
    "corpus = [id2word.doc2bow(text) for text in texts]"
   ]
  },
  {
   "cell_type": "code",
   "execution_count": 270,
   "id": "38e54987",
   "metadata": {},
   "outputs": [
    {
     "data": {
      "text/plain": [
       "[[('pain', 1),\n",
       "  ('year', 1),\n",
       "  ('lose', 1),\n",
       "  ('alveolar', 1),\n",
       "  ('angel', 1),\n",
       "  ('complication', 1),\n",
       "  ('daughter', 1),\n",
       "  ('drug', 1),\n",
       "  ('feel', 1),\n",
       "  ('goodbye', 1),\n",
       "  ('iv', 1),\n",
       "  ('make', 1),\n",
       "  ('night', 1),\n",
       "  ('old', 1),\n",
       "  ('poke', 1),\n",
       "  ('sick', 1),\n",
       "  ('stage', 1),\n",
       "  ('sweet', 1),\n",
       "  ('treatment', 1),\n",
       "  ('tube', 1)]]"
      ]
     },
     "execution_count": 270,
     "metadata": {},
     "output_type": "execute_result"
    }
   ],
   "source": [
    "[[(id2word[id], freq) for id, freq in cp] for cp in corpus[10:11]]"
   ]
  },
  {
   "cell_type": "code",
   "execution_count": 271,
   "id": "545a42da",
   "metadata": {},
   "outputs": [],
   "source": [
    "lda_model = gensim.models.ldamodel.LdaModel(corpus=corpus,\n",
    "                                           id2word=id2word,\n",
    "                                           num_topics=5, \n",
    "                                           random_state=100,\n",
    "                                           update_every=1,\n",
    "                                           chunksize=100,\n",
    "                                           passes=10,\n",
    "                                           alpha='auto',\n",
    "                                           per_word_topics=True)"
   ]
  },
  {
   "cell_type": "code",
   "execution_count": 272,
   "id": "fad33ebd",
   "metadata": {},
   "outputs": [
    {
     "name": "stdout",
     "output_type": "stream",
     "text": [
      "[(0, '0.065*\"mom\" + 0.043*\"die\" + 0.023*\"week\" + 0.022*\"passed_away\" + 0.020*\"live\" + 0.019*\"come\" + 0.019*\"tell\" + 0.019*\"people\" + 0.015*\"lose\" + 0.014*\"wife\"'), (1, '0.085*\"cancer\" + 0.039*\"fuck\" + 0.019*\"post\" + 0.018*\"feel\" + 0.017*\"lung\" + 0.015*\"need\" + 0.014*\"really\" + 0.014*\"morning\" + 0.014*\"share\" + 0.013*\"new\"'), (2, '0.054*\"dad\" + 0.025*\"time\" + 0.024*\"die\" + 0.023*\"pass\" + 0.019*\"love\" + 0.015*\"hard\" + 0.013*\"finish\" + 0.012*\"long\" + 0.012*\"hospital\" + 0.011*\"death\"'), (3, '0.050*\"chemo\" + 0.039*\"good\" + 0.030*\"treatment\" + 0.028*\"go\" + 0.026*\"news\" + 0.023*\"diagnose\" + 0.018*\"day\" + 0.018*\"today\" + 0.017*\"start\" + 0.017*\"get\"'), (4, '0.141*\"cancer\" + 0.060*\"today\" + 0.060*\"year\" + 0.039*\"lose\" + 0.033*\"stage\" + 0.030*\"m\" + 0.022*\"battle\" + 0.021*\"month\" + 0.020*\"fight\" + 0.017*\"free\"')]\n"
     ]
    }
   ],
   "source": [
    "print(lda_model.print_topics())\n",
    "doc_lda = lda_model[corpus]"
   ]
  },
  {
   "cell_type": "code",
   "execution_count": 273,
   "id": "d8677454",
   "metadata": {},
   "outputs": [
    {
     "name": "stdout",
     "output_type": "stream",
     "text": [
      "\n",
      "Perplexity:  -6.694447592982957\n",
      "\n",
      "Coherence Score:  0.45074978393476445\n"
     ]
    }
   ],
   "source": [
    "# Compute Perplexity\n",
    "\n",
    "print('\\nPerplexity: ', lda_model.log_perplexity(corpus)) \n",
    "\n",
    "# Compute Coherence Score\n",
    "\n",
    "coherence_model_lda = CoherenceModel(model=lda_model, texts=data_lemmatized, dictionary=id2word, coherence='c_v')\n",
    "coherence_lda = coherence_model_lda.get_coherence()\n",
    "print('\\nCoherence Score: ', coherence_lda)"
   ]
  },
  {
   "cell_type": "code",
   "execution_count": 177,
   "id": "9d05cc75",
   "metadata": {},
   "outputs": [],
   "source": [
    "'''\n",
    "NLP Librairies\n",
    "'''\n",
    "# Gensim\n",
    "import gensim\n",
    "import gensim.corpora as corpora\n",
    "from gensim.utils import simple_preprocess\n",
    "from gensim.models import CoherenceModel, LdaModel, LsiModel, HdpModel\n",
    "\n",
    "# spacy for lemmatization\n",
    "import spacy\n",
    "\n",
    "# Plotting tools\n",
    "import pyLDAvis\n",
    "#import pyLDAvis.gensim \n",
    "import pyLDAvis.gensim_models\n",
    "import matplotlib.pyplot as plt\n",
    "%matplotlib inline\n",
    "\n",
    "# Enable logging for gensim - optional\n",
    "import logging\n",
    "logging.basicConfig(format='%(asctime)s : %(levelname)s : %(message)s', level=logging.ERROR)\n",
    "\n",
    "import warnings\n",
    "warnings.filterwarnings(\"ignore\",category=DeprecationWarning)"
   ]
  },
  {
   "cell_type": "markdown",
   "id": "c6abff78",
   "metadata": {},
   "source": [
    "# Topic modeling using NLTK and Gensim"
   ]
  },
  {
   "cell_type": "markdown",
   "id": "3aeb4c48",
   "metadata": {},
   "source": [
    "\n",
    "Popular topic modeling algorithms include Latent Semantic Analysis (LSA) a.k.a Latent Semantic Indexing , Hierarchical Dirichlet Process (HDP), Latent Dirichlet Allocation (LDA) and Non-negative Matrix factorization among which LDA has shown great results in practice and therefore widely adopted. We'll look at them all one by one. Lets get to it.\n",
    "\n",
    "    Latent Semantic Analysis\n",
    "    Latent Dirichlet Allocation\n",
    "    Hierarchical Dirichlet Process\n",
    "    Non-negative Matrix factorization\n",
    "\n"
   ]
  },
  {
   "cell_type": "markdown",
   "id": "c7417038",
   "metadata": {},
   "source": [
    "Stopwords are words that are commonly used. Using the popular NLTK package in python, lets import the stopwords in the english language\n",
    "and save it. It'll be used later for modeling purposes"
   ]
  },
  {
   "cell_type": "code",
   "execution_count": 178,
   "id": "3128b27d",
   "metadata": {},
   "outputs": [],
   "source": [
    "# NLTK Stop words\n",
    "\n",
    "from nltk.corpus import stopwords\n",
    "stop_words = stopwords.words('english')\n",
    "stop_words.extend(['from', 'subject', 're', 'edu', 'use','a','about', 'above', 'across'])"
   ]
  },
  {
   "cell_type": "markdown",
   "id": "042d241e",
   "metadata": {},
   "source": [
    "The extended stopwords list from the scikit learn library"
   ]
  },
  {
   "cell_type": "code",
   "execution_count": 179,
   "id": "91ed67ca",
   "metadata": {},
   "outputs": [],
   "source": [
    "st1= ['after', 'afterwards','again','against', 'all', 'almost','alone','along',\n",
    "           'already',\n",
    "           'also',\n",
    "           'although',\n",
    "           'always',\n",
    "           'am',\n",
    "           'among',\n",
    "           'amongst',\n",
    "           'amoungst',\n",
    "           'amount',\n",
    "           'an',\n",
    "           'and',\n",
    "           'another',\n",
    "           'any',\n",
    "           'anyhow',\n",
    "           'anyone',\n",
    "           'anything',\n",
    "           'anyway',\n",
    "           'anywhere',\n",
    "           'are',\n",
    "           'around',\n",
    "           'as',\n",
    "           'at',\n",
    "           'back',\n",
    "           'be',\n",
    "           'became',\n",
    "           'because',\n",
    "           'become',\n",
    "           'becomes',\n",
    "           'becoming',\n",
    "           'been',\n",
    "           'before',\n",
    "           'beforehand',\n",
    "           'behind',\n",
    "           'being',\n",
    "           'below',\n",
    "           'beside',\n",
    "           'besides',\n",
    "           'between',\n",
    "           'beyond',\n",
    "           'bill',\n",
    "           'both',\n",
    "           'bottom',\n",
    "           'but',\n",
    "           'by',\n",
    "           'call',\n",
    "           'can',\n",
    "           'cannot',\n",
    "           'cant',\n",
    "           'co',\n",
    "           'con',\n",
    "           'could',\n",
    "           'couldnt',\n",
    "           'cry',\n",
    "           'de',\n",
    "           'describe',\n",
    "           'detail',\n",
    "           'do',\n",
    "           'done',\n",
    "           'down',\n",
    "           'due',\n",
    "           'during',\n",
    "           'each',\n",
    "           'eg',\n",
    "           'eight',\n",
    "           'either',\n",
    "           'eleven',\n",
    "           'else',\n",
    "           'elsewhere',\n",
    "           'empty',\n",
    "           'enough',\n",
    "           'etc',\n",
    "           'even',\n",
    "           'ever',\n",
    "           'every',\n",
    "           'everyone',\n",
    "           'everything',\n",
    "           'everywhere',\n",
    "           'except',\n",
    "           'few',\n",
    "           'fifteen',\n",
    "           'fifty',\n",
    "           'fill',\n",
    "           'find',\n",
    "           'fire',\n",
    "           'first',\n",
    "           'five',\n",
    "           'for',\n",
    "           'former',\n",
    "           'formerly',\n",
    "           'forty',\n",
    "           'found',\n",
    "           'four',\n",
    "           'from',\n",
    "           'front',\n",
    "           'full',\n",
    "           'further',\n",
    "           'get',\n",
    "           'give',\n",
    "           'go',\n",
    "           'had',\n",
    "           'has',\n",
    "           'hasnt',\n",
    "           'have',\n",
    "           'he',\n",
    "           'hence',\n",
    "           'her',\n",
    "           'here',\n",
    "           'hereafter',\n",
    "           'hereby',\n",
    "           'herein',\n",
    "           'hereupon',\n",
    "           'hers',\n",
    "           'herself',\n",
    "           'him',\n",
    "           'himself',\n",
    "           'his',\n",
    "           'how',\n",
    "           'however',\n",
    "           'hundred',\n",
    "           'i',\n",
    "           'ie',\n",
    "           'if',\n",
    "           'in',\n",
    "           'inc',\n",
    "           'indeed',\n",
    "           'interest',\n",
    "           'into',\n",
    "           'is',\n",
    "           'it',\n",
    "           'its',\n",
    "           'itself',\n",
    "           'keep',\n",
    "           'last',\n",
    "           'latter',\n",
    "           'latterly',\n",
    "           'least',\n",
    "           'less',\n",
    "           'ltd',\n",
    "           'made',\n",
    "           'many',\n",
    "           'may',\n",
    "           'me',\n",
    "           'meanwhile',\n",
    "           'might',\n",
    "           'mill',\n",
    "           'mine',\n",
    "           'more',\n",
    "           'moreover',\n",
    "           'most',\n",
    "           'mostly',\n",
    "           'move',\n",
    "           'much',\n",
    "           'must',\n",
    "           'my',\n",
    "           'myself',\n",
    "           'name',\n",
    "           'namely',\n",
    "           'neither',\n",
    "           'never',\n",
    "           'nevertheless',\n",
    "           'next',\n",
    "           'nine',\n",
    "           'no',\n",
    "           'nobody',\n",
    "           'none',\n",
    "           'noone',\n",
    "           'nor',\n",
    "           'not',\n",
    "           'nothing',\n",
    "           'now',\n",
    "           'nowhere',\n",
    "           'of',\n",
    "           'off',\n",
    "           'often',\n",
    "           'on',\n",
    "           'once',\n",
    "           'one',\n",
    "           'only',\n",
    "           'onto',\n",
    "           'or',\n",
    "           'other',\n",
    "           'others',\n",
    "           'otherwise',\n",
    "           'our',\n",
    "           'ours',\n",
    "           'ourselves',\n",
    "           'out',\n",
    "           'over',\n",
    "           'own',\n",
    "           'part',\n",
    "           'per',\n",
    "           'perhaps',\n",
    "           'please',\n",
    "           'put',\n",
    "           'rather',\n",
    "           're',\n",
    "           'same',\n",
    "           'see',\n",
    "           'seem',\n",
    "           'seemed',\n",
    "           'seeming',\n",
    "           'seems',\n",
    "           'serious',\n",
    "           'several',\n",
    "           'she',\n",
    "           'should',\n",
    "           'show',\n",
    "           'side',\n",
    "           'since',\n",
    "           'sincere',\n",
    "           'six',\n",
    "           'sixty',\n",
    "           'so',\n",
    "           'some',\n",
    "           'somehow',\n",
    "           'someone',\n",
    "           'something',\n",
    "           'sometime',\n",
    "           'sometimes',\n",
    "           'somewhere',\n",
    "           'still',\n",
    "           'such',\n",
    "           'system',\n",
    "           'take',\n",
    "           'ten',\n",
    "           'than',\n",
    "           'that',\n",
    "           'the',\n",
    "           'their',\n",
    "           'them',\n",
    "           'themselves',\n",
    "           'then',\n",
    "           'thence',\n",
    "           'there',\n",
    "           'thereafter',\n",
    "           'thereby',\n",
    "           'therefore',\n",
    "           'therein',\n",
    "           'thereupon',\n",
    "           'these',\n",
    "           'they',\n",
    "           'thick',\n",
    "           'thin',\n",
    "           'third',\n",
    "           'this',\n",
    "           'those',\n",
    "           'though',\n",
    "           'three',\n",
    "           'through',\n",
    "           'throughout',\n",
    "           'thru',\n",
    "           'thus',\n",
    "           'to',\n",
    "           'together',\n",
    "           'too',\n",
    "           'top',\n",
    "           'toward',\n",
    "           'towards',\n",
    "           'twelve',\n",
    "           'twenty',\n",
    "           'two',\n",
    "           'un',\n",
    "           'under',\n",
    "           'until',\n",
    "           'up',\n",
    "           'upon',\n",
    "           'us',\n",
    "           'very',\n",
    "           'via',\n",
    "           'was',\n",
    "           'we',\n",
    "           'well',\n",
    "           'were',\n",
    "           'what',\n",
    "           'whatever',\n",
    "           'when',\n",
    "           'whence',\n",
    "           'whenever',\n",
    "           'where',\n",
    "           'whereafter',\n",
    "           'whereas',\n",
    "           'whereby',\n",
    "           'wherein',\n",
    "           'whereupon',\n",
    "           'wherever',\n",
    "           'whether',\n",
    "           'which',\n",
    "           'while',\n",
    "           'whither',\n",
    "           'who',\n",
    "           'whoever',\n",
    "           'whole',\n",
    "           'whom',\n",
    "           'whose',\n",
    "           'why',\n",
    "           'will',\n",
    "           'with',\n",
    "           'within',\n",
    "           'without',\n",
    "           'would',\n",
    "           'yet',\n",
    "           'you',\n",
    "           'your',\n",
    "           'yours',\n",
    "           'yourself',\n",
    "           'yourselves']"
   ]
  },
  {
   "cell_type": "code",
   "execution_count": 180,
   "id": "6a61e827",
   "metadata": {},
   "outputs": [],
   "source": [
    "stop_words.extend(st1)"
   ]
  },
  {
   "cell_type": "code",
   "execution_count": 181,
   "id": "589da462",
   "metadata": {},
   "outputs": [
    {
     "data": {
      "text/plain": [
       "['Score! Immunotherapy is amazing! Congratulations!',\n",
       " \"That's awesome! Immunotherapy is such a blessing for far too few of us. So exciting to always hear a success.\",\n",
       " 'amazing news!!! my dad is Ned with immunotherapy after 1.5 years too! nsclc',\n",
       " \"Great news!  Here's to continuing on the path to being cancer free.\",\n",
       " \"ROCK ON! That's such wonderful news, congrats!\",\n",
       " 'Fan-freaking-tastic happy for you!',\n",
       " 'Thank you for posting this. I am 2 immunotherapy treatments in for metastatic melanoma. This gives me hope!',\n",
       " '$IBRX is curing cancer.  Literally',\n",
       " 'Congrats OP that is amazing news! If I can ask, what stage were you diagnosed at? I am getting staged tomorrow and am trying to shake the nervousness.',\n",
       " 'Calls for a celebration!',\n",
       " '[removed]',\n",
       " \"Congratulations! I'm happy for you. Please continue on living a good life.\",\n",
       " \"I have Stage 4 Kidney cancer with metastasis to the lung, liver and remaining kidney.  The combination of Opdivo and Yervoy worked wonders for me reducing all the tumors to not detectable but eventually caused pancreatitis causing me to stop treatment and loose the progress.  I'm on Keytruda and Inlyta now.  The results aren't quite as good but progress none the less.  I've out-lived my original prognosis by 18 months now.  What kind of treatment are you on?\",\n",
       " 'Wow I’m hoping to do T cell therapy soon. How long were you in the hospital?',\n",
       " 'Good news! Great to hear it!',\n",
       " 'Immunotherapy can unlock the full potential of our immune system. Keep on rocking ;)']"
      ]
     },
     "execution_count": 181,
     "metadata": {},
     "output_type": "execute_result"
    }
   ],
   "source": [
    "'''\n",
    "break out data from nested columns \n",
    "'''\n",
    "df['comments'].iloc[:][70]"
   ]
  },
  {
   "cell_type": "code",
   "execution_count": 315,
   "id": "772b0c96",
   "metadata": {},
   "outputs": [
    {
     "ename": "AttributeError",
     "evalue": "'list' object has no attribute 'comments'",
     "output_type": "error",
     "traceback": [
      "\u001b[1;31m---------------------------------------------------------------------------\u001b[0m",
      "\u001b[1;31mAttributeError\u001b[0m                            Traceback (most recent call last)",
      "\u001b[1;32m~\\AppData\\Local\\Temp/ipykernel_27864/4030911116.py\u001b[0m in \u001b[0;36m<module>\u001b[1;34m\u001b[0m\n\u001b[1;32m----> 1\u001b[1;33m \u001b[0mdf\u001b[0m\u001b[1;33m.\u001b[0m\u001b[0mcomments\u001b[0m\u001b[1;33m.\u001b[0m\u001b[0miloc\u001b[0m\u001b[1;33m[\u001b[0m\u001b[1;33m:\u001b[0m\u001b[1;33m]\u001b[0m\u001b[1;33m[\u001b[0m\u001b[1;36m70\u001b[0m\u001b[1;33m]\u001b[0m\u001b[1;33m\u001b[0m\u001b[1;33m\u001b[0m\u001b[0m\n\u001b[0m",
      "\u001b[1;31mAttributeError\u001b[0m: 'list' object has no attribute 'comments'"
     ]
    }
   ],
   "source": [
    "df.comments.iloc[:][70]"
   ]
  },
  {
   "cell_type": "markdown",
   "id": "0cf0fc2f",
   "metadata": {},
   "source": [
    "# Latent Dirichlet Allocation (LDA)"
   ]
  },
  {
   "cell_type": "code",
   "execution_count": 276,
   "id": "c71d61ad",
   "metadata": {},
   "outputs": [
    {
     "name": "stderr",
     "output_type": "stream",
     "text": [
      "C:\\Users\\rmastour\\Anaconda3\\lib\\site-packages\\pyLDAvis\\_prepare.py:246: FutureWarning: In a future version of pandas all arguments of DataFrame.drop except for the argument 'labels' will be keyword-only\n",
      "  default_term_info = default_term_info.sort_values(\n"
     ]
    },
    {
     "data": {
      "text/html": [
       "\n",
       "<link rel=\"stylesheet\" type=\"text/css\" href=\"https://cdn.jsdelivr.net/gh/bmabey/pyLDAvis@3.3.1/pyLDAvis/js/ldavis.v1.0.0.css\">\n",
       "\n",
       "\n",
       "<div id=\"ldavis_el278642749771901856875121254\"></div>\n",
       "<script type=\"text/javascript\">\n",
       "\n",
       "var ldavis_el278642749771901856875121254_data = {\"mdsDat\": {\"x\": [0.23137217141043862, -0.14751033740240235, -0.14682708550805523, 0.10789828630984662, -0.04493303480982763], \"y\": [-0.020585567895043073, -0.22874972392146378, 0.1579674218973553, -0.010997023113248966, 0.10236489303240028], \"topics\": [1, 2, 3, 4, 5], \"cluster\": [1, 1, 1, 1, 1], \"Freq\": [29.099085335423908, 22.110919062807945, 18.277510400045827, 16.188964210629624, 14.323520991092698]}, \"tinfo\": {\"Term\": [\"cancer\", \"year\", \"mom\", \"chemo\", \"today\", \"dad\", \"die\", \"good\", \"fuck\", \"stage\", \"lose\", \"m\", \"treatment\", \"news\", \"go\", \"battle\", \"diagnose\", \"time\", \"month\", \"week\", \"passed_away\", \"fight\", \"pass\", \"live\", \"come\", \"people\", \"free\", \"start\", \"love\", \"colon\", \"year\", \"stage\", \"m\", \"battle\", \"month\", \"fight\", \"free\", \"colon\", \"diagnosis\", \"remission\", \"ago\", \"give\", \"oncologist\", \"iv\", \"break\", \"son\", \"later\", \"birthday\", \"final\", \"father\", \"officially\", \"try\", \"terminal\", \"hour\", \"inoperable\", \"met\", \"mother\", \"deal\", \"lymphoma\", \"remove\", \"today\", \"lose\", \"cancer\", \"dad\", \"beat\", \"day\", \"time\", \"scan\", \"wife\", \"tell\", \"chemo\", \"good\", \"treatment\", \"news\", \"diagnose\", \"start\", \"life\", \"finally\", \"do\", \"surgery\", \"daughter\", \"old\", \"bad\", \"blood\", \"breast\", \"little\", \"look\", \"great\", \"take\", \"chemotherapy\", \"wish\", \"result\", \"world\", \"tonight\", \"round\", \"work\", \"strong\", \"sad\", \"ill\", \"pet\", \"go\", \"get\", \"brain\", \"end\", \"day\", \"know\", \"want\", \"today\", \"feel\", \"mom\", \"week\", \"passed_away\", \"live\", \"come\", \"people\", \"leave\", \"tomorrow\", \"think\", \"night\", \"way\", \"beautiful\", \"update\", \"tumor\", \"kill\", \"wait\", \"husband\", \"brother\", \"pain\", \"anymore\", \"right\", \"home\", \"turn\", \"happen\", \"face\", \"port\", \"suddenly\", \"struggle\", \"leukemia\", \"guess\", \"say\", \"die\", \"tell\", \"wife\", \"friend\", \"yesterday\", \"lose\", \"day\", \"fuck\", \"lung\", \"really\", \"morning\", \"share\", \"new\", \"patient\", \"s\", \"thank\", \"real\", \"let\", \"sub\", \"story\", \"experience\", \"doctor\", \"well\", \"happy\", \"see\", \"lonely\", \"cycle\", \"vent\", \"thing\", \"damn\", \"sick\", \"shit\", \"write\", \"journey\", \"rule\", \"angel\", \"suck\", \"post\", \"help\", \"feel\", \"need\", \"cancer\", \"pass\", \"love\", \"hard\", \"finish\", \"long\", \"hospital\", \"death\", \"ve\", \"family\", \"watch\", \"process\", \"cell\", \"pancreatic\", \"sister\", \"tired\", \"hero\", \"pm\", \"hair\", \"stem\", \"person\", \"heart\", \"miss\", \"talk\", \"ovarian\", \"caregiver\", \"hear\", \"letter\", \"cause\", \"treat\", \"sure\", \"dad\", \"time\", \"die\", \"need\", \"know\", \"go\", \"yesterday\", \"cancer\"], \"Freq\": [248.0, 77.0, 53.0, 49.0, 95.0, 54.0, 50.0, 38.0, 28.0, 42.0, 62.0, 39.0, 30.0, 25.0, 32.0, 29.0, 23.0, 26.0, 27.0, 19.0, 18.0, 26.0, 15.0, 16.0, 16.0, 15.0, 22.0, 17.0, 12.0, 21.0, 77.09755817143316, 42.27146890630707, 38.34320935452606, 28.930275257293403, 27.26700303274111, 25.44246322022013, 22.014154099715665, 20.95885272693421, 17.832406932257395, 14.74417696325282, 13.91787974710162, 12.04689646502645, 11.4581446779917, 11.3426692695255, 9.491217479148487, 9.561886054684889, 9.121156154069126, 7.33829049336209, 7.082228359353138, 6.833706529909583, 6.684832679197867, 6.064841200061303, 6.016590460695741, 5.727134691009921, 5.732660442491032, 5.528329604369343, 9.158703866699392, 5.217171576420045, 5.193398287890676, 4.759291538460302, 77.7818212840577, 50.56392936647001, 182.52617591317988, 19.026008906368748, 7.374149297933924, 12.577432294247698, 10.145911783097219, 7.495119215185028, 8.155561574414806, 7.24713872553537, 48.641325284974585, 38.0776814129249, 29.73274635935365, 25.095739595513287, 22.354813101861478, 16.880918405940506, 16.194903827633034, 13.554758922776882, 12.44712929697294, 11.30865900939389, 11.198523962942897, 11.07918154954575, 10.762519893658999, 10.513441625973389, 10.139411061658068, 10.200714375498277, 9.651570356488913, 9.219175640788725, 8.648556287529708, 6.5017793385178955, 6.24279383808246, 5.902659970564935, 5.905995860602396, 5.732095415328023, 5.476977209884697, 5.422821840524651, 5.106769200281799, 5.053722750711133, 5.22849791410673, 4.778376003914323, 27.155669726718006, 16.51055289229177, 11.278064875690527, 8.610328914271621, 17.819381381981014, 9.399731887466707, 8.119772748045555, 17.467715479107486, 8.046979399928238, 52.87362085908263, 18.474135622736576, 17.63035903616164, 15.806449670646751, 15.53917009823069, 15.246747730065355, 10.451054554758638, 9.962339198081384, 9.79175960911276, 8.527912208001686, 8.417850585710909, 8.655962945142614, 8.175957598760347, 7.323594783665849, 6.235683552378124, 5.904926949561383, 5.681639344653852, 5.631754534391584, 5.519972798282584, 5.07460332862751, 5.005997279599483, 4.929829975533746, 4.7819371707459455, 4.2721940075853, 4.168293547689494, 3.9989536633924043, 4.19145281596431, 3.8270894611203072, 3.7896243405810903, 3.7243166230079248, 9.175607140803228, 34.77477497455534, 15.278351330678152, 11.718940713676337, 7.403212882104954, 6.598919662822166, 11.790395253072933, 9.712278878253695, 27.829090288342414, 11.93467017629421, 10.333985518164313, 10.079271095417523, 9.838264021846086, 9.60249213415995, 9.102103026061469, 9.164165148608, 8.433845018495694, 7.916305010909613, 6.8831035390062185, 6.316050880133838, 6.255165354083048, 6.135042874116972, 5.951357442551564, 5.932079978602065, 5.6226304205776625, 5.583081736604281, 5.41190566505493, 5.5079246298767695, 5.34419320524591, 4.785404131193886, 4.771289987150544, 4.754797246327749, 4.572434148778575, 4.213631381663459, 3.8116491944565785, 3.7230043476155594, 3.6913679408156517, 3.259741538602784, 13.338947453248526, 8.527789563473057, 13.145588526630085, 10.754590687519938, 60.912593118358885, 14.548547213729455, 12.21220687556, 9.558392692109758, 8.313464000524707, 7.822382052590092, 7.733364950590191, 7.200069127610686, 6.527764266287501, 6.506179702567424, 5.410728787495559, 5.132891705998882, 5.036401158788985, 4.5144681074126956, 4.156759504433486, 4.038448981458117, 4.382716029835256, 3.7691742737532796, 3.7773107765082226, 3.59139736683827, 3.406831661553832, 3.3101956084063286, 3.3517026558274803, 3.1866134526304775, 3.152064960505962, 2.9814166615585718, 2.93543382783714, 2.8985045983188584, 2.750496076882968, 2.893122948833845, 2.6270440483683912, 34.470595579966584, 15.665862466133136, 15.246532098577546, 7.026227978861669, 5.151043275971526, 4.690591510878196, 3.7150232926929134, 3.887083176681353], \"Total\": [248.0, 77.0, 53.0, 49.0, 95.0, 54.0, 50.0, 38.0, 28.0, 42.0, 62.0, 39.0, 30.0, 25.0, 32.0, 29.0, 23.0, 26.0, 27.0, 19.0, 18.0, 26.0, 15.0, 16.0, 16.0, 15.0, 22.0, 17.0, 12.0, 21.0, 77.75715866909623, 42.92848878880072, 39.00835244801391, 29.588824857783727, 27.93964410039189, 26.09986734763838, 22.66810640800278, 21.615075384116793, 18.49248315792253, 15.399863417939002, 14.574126357499216, 12.706417227656958, 12.114899173379275, 11.996230997747974, 10.15384935613849, 10.237427057597406, 9.779354786006605, 7.99655634197918, 7.742835755864964, 7.492173327564784, 7.3389901388664205, 6.725782340776225, 6.672564025843461, 6.385511659166344, 6.410887191887845, 6.1865606474476005, 10.275368198220974, 5.878893943932046, 5.8594890328557065, 5.414826580974641, 95.72730767754662, 62.84148840979905, 248.43546043245453, 54.00615552675213, 10.909326280824365, 40.583314870680745, 26.325094698613675, 12.130148804864294, 20.36235307969442, 23.016703074837867, 49.30692378788718, 38.748270851076356, 30.40063861058841, 25.759147985206017, 23.039324068297706, 17.552750220999016, 16.868183110374613, 14.22203508415368, 13.122811803319749, 11.978101756205854, 11.86915763099182, 11.757629162950149, 11.443926404571148, 11.192694143574414, 10.816158454494644, 10.881607772760333, 10.321316714227883, 9.90295337680043, 9.317154543308327, 7.181614130627137, 6.916254069684534, 6.566869460174759, 6.574878383281397, 6.426277807289141, 6.14192850716332, 6.098031403870465, 5.779311463444038, 5.721644762587618, 5.936840969005682, 5.455892146388785, 32.363921943349155, 19.438416607835403, 16.67873582597085, 12.464203236857996, 40.583314870680745, 15.074283757168642, 13.549587779418113, 95.72730767754662, 21.709069037443346, 53.55650407272622, 19.157150702457123, 18.310286309320063, 16.495992179462522, 16.21919910807441, 15.933963127578945, 11.127037616365982, 10.641814526411006, 10.484989163043698, 9.210614435260267, 9.093564230698261, 9.351809601483895, 8.861224264874085, 8.007840317635166, 6.932152684404041, 6.6012487622245075, 6.36139183078277, 6.31291262502595, 6.2068017803191875, 5.766525791186861, 5.6900688744970775, 5.608888856244003, 5.4566747105250695, 4.950267524395986, 4.847498465333577, 4.676018690042416, 4.9140948321835, 4.509553607393238, 4.476830878499359, 4.3999853321892894, 11.337343423629195, 50.55134841874034, 23.016703074837867, 20.36235307969442, 12.163528252800253, 14.053081873253523, 62.84148840979905, 40.583314870680745, 28.51605961348656, 12.639474541623938, 11.025514988943156, 10.774673800649326, 10.549252816280774, 10.297573673979489, 9.789719333140631, 9.86773991941285, 9.121269596011805, 8.62308042087615, 7.579195649401927, 7.002389269213997, 6.948588755336871, 6.826249878156987, 6.64575022085482, 6.631777135738691, 6.3156424047916, 6.2740039073173435, 6.0995722893592506, 6.208744288095973, 6.04848866418158, 5.474248245307957, 5.461464812331963, 5.453229257898369, 5.260239532470571, 4.907341528549558, 4.499950612189202, 4.408309934394271, 4.388356023537261, 3.9455885553409065, 17.681245524514768, 11.461403286330734, 21.709069037443346, 18.320388362959058, 248.43546043245453, 15.245967162345876, 12.909652590622764, 10.258958778355668, 9.01401143891935, 8.522131546191101, 8.43600217630122, 7.895774715131133, 7.22836878581846, 7.2247392595627655, 6.1042385424657315, 5.827190980416398, 5.731340499343516, 5.227876687793993, 4.850884876951234, 4.73126381539917, 5.146395527294954, 4.480082983376546, 4.490250278396411, 4.314645970721924, 4.1028733383989655, 4.006560394510292, 4.069900597144493, 3.878547696526871, 3.857680025190235, 3.6843867004607813, 3.6296448112815245, 3.5965842530499668, 3.4456970822503186, 3.6291157504260667, 3.319528677202583, 54.00615552675213, 26.325094698613675, 50.55134841874034, 18.320388362959058, 15.074283757168642, 32.363921943349155, 14.053081873253523, 248.43546043245453], \"Category\": [\"Default\", \"Default\", \"Default\", \"Default\", \"Default\", \"Default\", \"Default\", \"Default\", \"Default\", \"Default\", \"Default\", \"Default\", \"Default\", \"Default\", \"Default\", \"Default\", \"Default\", \"Default\", \"Default\", \"Default\", \"Default\", \"Default\", \"Default\", \"Default\", \"Default\", \"Default\", \"Default\", \"Default\", \"Default\", \"Default\", \"Topic1\", \"Topic1\", \"Topic1\", \"Topic1\", \"Topic1\", \"Topic1\", \"Topic1\", \"Topic1\", \"Topic1\", \"Topic1\", \"Topic1\", \"Topic1\", \"Topic1\", \"Topic1\", \"Topic1\", \"Topic1\", \"Topic1\", \"Topic1\", \"Topic1\", \"Topic1\", \"Topic1\", \"Topic1\", \"Topic1\", \"Topic1\", \"Topic1\", \"Topic1\", \"Topic1\", \"Topic1\", \"Topic1\", \"Topic1\", \"Topic1\", \"Topic1\", \"Topic1\", \"Topic1\", \"Topic1\", \"Topic1\", \"Topic1\", \"Topic1\", \"Topic1\", \"Topic1\", \"Topic2\", \"Topic2\", \"Topic2\", \"Topic2\", \"Topic2\", \"Topic2\", \"Topic2\", \"Topic2\", \"Topic2\", \"Topic2\", \"Topic2\", \"Topic2\", \"Topic2\", \"Topic2\", \"Topic2\", \"Topic2\", \"Topic2\", \"Topic2\", \"Topic2\", \"Topic2\", \"Topic2\", \"Topic2\", \"Topic2\", \"Topic2\", \"Topic2\", \"Topic2\", \"Topic2\", \"Topic2\", \"Topic2\", \"Topic2\", \"Topic2\", \"Topic2\", \"Topic2\", \"Topic2\", \"Topic2\", \"Topic2\", \"Topic2\", \"Topic2\", \"Topic2\", \"Topic3\", \"Topic3\", \"Topic3\", \"Topic3\", \"Topic3\", \"Topic3\", \"Topic3\", \"Topic3\", \"Topic3\", \"Topic3\", \"Topic3\", \"Topic3\", \"Topic3\", \"Topic3\", \"Topic3\", \"Topic3\", \"Topic3\", \"Topic3\", \"Topic3\", \"Topic3\", \"Topic3\", \"Topic3\", \"Topic3\", \"Topic3\", \"Topic3\", \"Topic3\", \"Topic3\", \"Topic3\", \"Topic3\", \"Topic3\", \"Topic3\", \"Topic3\", \"Topic3\", \"Topic3\", \"Topic3\", \"Topic3\", \"Topic3\", \"Topic3\", \"Topic4\", \"Topic4\", \"Topic4\", \"Topic4\", \"Topic4\", \"Topic4\", \"Topic4\", \"Topic4\", \"Topic4\", \"Topic4\", \"Topic4\", \"Topic4\", \"Topic4\", \"Topic4\", \"Topic4\", \"Topic4\", \"Topic4\", \"Topic4\", \"Topic4\", \"Topic4\", \"Topic4\", \"Topic4\", \"Topic4\", \"Topic4\", \"Topic4\", \"Topic4\", \"Topic4\", \"Topic4\", \"Topic4\", \"Topic4\", \"Topic4\", \"Topic4\", \"Topic4\", \"Topic4\", \"Topic4\", \"Topic5\", \"Topic5\", \"Topic5\", \"Topic5\", \"Topic5\", \"Topic5\", \"Topic5\", \"Topic5\", \"Topic5\", \"Topic5\", \"Topic5\", \"Topic5\", \"Topic5\", \"Topic5\", \"Topic5\", \"Topic5\", \"Topic5\", \"Topic5\", \"Topic5\", \"Topic5\", \"Topic5\", \"Topic5\", \"Topic5\", \"Topic5\", \"Topic5\", \"Topic5\", \"Topic5\", \"Topic5\", \"Topic5\", \"Topic5\", \"Topic5\", \"Topic5\", \"Topic5\", \"Topic5\", \"Topic5\", \"Topic5\", \"Topic5\", \"Topic5\"], \"logprob\": [30.0, 29.0, 28.0, 27.0, 26.0, 25.0, 24.0, 23.0, 22.0, 21.0, 20.0, 19.0, 18.0, 17.0, 16.0, 15.0, 14.0, 13.0, 12.0, 11.0, 10.0, 9.0, 8.0, 7.0, 6.0, 5.0, 4.0, 3.0, 2.0, 1.0, -2.8175, -3.4185, -3.516, -3.7977, -3.8569, -3.9262, -4.0709, -4.12, -4.2816, -4.4717, -4.5294, -4.6738, -4.7239, -4.734, -4.9122, -4.9048, -4.952, -5.1695, -5.205, -5.2407, -5.2628, -5.3601, -5.3681, -5.4174, -5.4164, -5.4527, -4.9479, -5.5106, -5.5152, -5.6025, -2.8087, -3.2394, -1.9557, -4.2168, -5.1646, -4.6307, -4.8455, -5.1483, -5.0639, -5.182, -3.0035, -3.2483, -3.4957, -3.6653, -3.7809, -4.0618, -4.1033, -4.2812, -4.3665, -4.4624, -4.4722, -4.4829, -4.5119, -4.5353, -4.5715, -4.5655, -4.6208, -4.6667, -4.7306, -5.0159, -5.0565, -5.1126, -5.112, -5.1419, -5.1874, -5.1973, -5.2574, -5.2678, -5.2338, -5.3239, -3.5864, -4.084, -4.4651, -4.735, -4.0077, -4.6473, -4.7937, -4.0276, -4.8027, -2.7297, -3.7812, -3.8279, -3.9371, -3.9542, -3.9732, -4.3509, -4.3987, -4.416, -4.5542, -4.5672, -4.5393, -4.5964, -4.7065, -4.8673, -4.9218, -4.9603, -4.9691, -4.9892, -5.0733, -5.0869, -5.1023, -5.1327, -5.2454, -5.2701, -5.3115, -5.2645, -5.3555, -5.3653, -5.3827, -4.481, -3.1487, -3.9711, -4.2364, -4.6956, -4.8107, -4.2303, -4.4242, -3.2501, -4.0968, -4.2408, -4.2657, -4.2899, -4.3142, -4.3677, -4.3609, -4.444, -4.5073, -4.6471, -4.7331, -4.7428, -4.7622, -4.7926, -4.7958, -4.8494, -4.8565, -4.8876, -4.87, -4.9002, -5.0106, -5.0136, -5.0171, -5.0562, -5.1379, -5.2382, -5.2617, -5.2702, -5.3946, -3.9855, -4.4329, -4.0001, -4.2009, -2.4668, -3.7763, -3.9514, -4.1964, -4.3359, -4.3968, -4.4082, -4.4797, -4.5777, -4.581, -4.7654, -4.8181, -4.8371, -4.9465, -5.0291, -5.0579, -4.9761, -5.1269, -5.1248, -5.1752, -5.228, -5.2568, -5.2443, -5.2948, -5.3057, -5.3614, -5.3769, -5.3896, -5.442, -5.3915, -5.4879, -2.9137, -3.7023, -3.7294, -4.5041, -4.8146, -4.9082, -5.1414, -5.0961], \"loglift\": [30.0, 29.0, 28.0, 27.0, 26.0, 25.0, 24.0, 23.0, 22.0, 21.0, 20.0, 19.0, 18.0, 17.0, 16.0, 15.0, 14.0, 13.0, 12.0, 11.0, 10.0, 9.0, 8.0, 7.0, 6.0, 5.0, 4.0, 3.0, 2.0, 1.0, 1.2259, 1.219, 1.2173, 1.212, 1.2101, 1.209, 1.2052, 1.2036, 1.1981, 1.191, 1.1884, 1.1812, 1.1787, 1.1784, 1.167, 1.1662, 1.1648, 1.1486, 1.1453, 1.1425, 1.1411, 1.131, 1.131, 1.1256, 1.1226, 1.122, 1.1194, 1.1151, 1.1138, 1.1054, 1.0269, 1.0171, 0.9262, 0.1912, 0.8428, 0.063, 0.281, 0.753, 0.3195, 0.0789, 1.4955, 1.4916, 1.4869, 1.483, 1.4789, 1.4701, 1.4684, 1.461, 1.4562, 1.4516, 1.4509, 1.4497, 1.4477, 1.4465, 1.4445, 1.4445, 1.442, 1.4376, 1.4346, 1.4097, 1.4067, 1.4025, 1.4018, 1.3948, 1.3945, 1.3917, 1.3854, 1.385, 1.382, 1.3765, 1.3336, 1.3458, 1.1178, 1.1392, 0.686, 1.0368, 0.997, -0.1921, 0.5167, 1.6867, 1.6632, 1.6617, 1.6568, 1.6567, 1.6554, 1.6368, 1.6335, 1.6311, 1.6225, 1.6223, 1.6222, 1.619, 1.6102, 1.5936, 1.588, 1.5865, 1.5853, 1.5822, 1.5717, 1.5714, 1.5705, 1.5675, 1.5522, 1.5485, 1.5431, 1.5404, 1.5354, 1.5329, 1.5328, 1.4879, 1.3254, 1.2897, 1.147, 1.203, 0.9436, 0.0262, 0.2695, 1.7965, 1.7635, 1.7561, 1.7541, 1.7511, 1.751, 1.748, 1.7469, 1.7425, 1.7353, 1.7245, 1.7177, 1.7157, 1.7141, 1.7105, 1.7093, 1.7046, 1.7042, 1.7012, 1.7011, 1.697, 1.6864, 1.6857, 1.6838, 1.6807, 1.6684, 1.6548, 1.6519, 1.6479, 1.6299, 1.539, 1.5252, 1.3192, 1.2882, 0.4151, 1.8964, 1.8877, 1.8725, 1.8624, 1.8576, 1.8563, 1.851, 1.8413, 1.8385, 1.8227, 1.8164, 1.814, 1.7965, 1.7888, 1.7849, 1.7826, 1.7705, 1.7704, 1.7598, 1.7574, 1.7523, 1.7491, 1.7468, 1.7413, 1.7316, 1.731, 1.7275, 1.7179, 1.7166, 1.7093, 1.4943, 1.4242, 0.7446, 0.9849, 0.8695, 0.0118, 0.6128, -2.2143]}, \"token.table\": {\"Topic\": [1, 4, 3, 2, 1, 1, 4, 3, 1, 2, 2, 3, 1, 2, 3, 1, 2, 4, 5, 5, 5, 5, 2, 2, 1, 3, 4, 1, 5, 4, 2, 1, 2, 3, 1, 5, 2, 1, 3, 5, 2, 4, 2, 3, 4, 3, 5, 1, 2, 4, 1, 1, 2, 5, 1, 2, 3, 4, 2, 3, 1, 2, 5, 2, 2, 3, 5, 3, 4, 5, 5, 5, 4, 5, 5, 3, 5, 1, 3, 2, 1, 1, 4, 3, 2, 5, 1, 3, 4, 5, 3, 2, 2, 3, 4, 5, 2, 1, 3, 5, 4, 1, 1, 1, 5, 3, 1, 4, 1, 4, 4, 5, 4, 2, 3, 1, 2, 1, 5, 3, 5, 5, 3, 4, 3, 5, 2, 5, 3, 2, 4, 5, 4, 4, 1, 1, 2, 3, 2, 4, 4, 2, 3, 5, 1, 2, 4, 4, 4, 4, 5, 1, 1, 2, 5, 4, 2, 3, 4, 4, 3, 5, 2, 2, 5, 1, 3, 1, 4, 4, 3, 1, 5, 5, 1, 2, 3, 2, 5, 2, 1, 3, 3, 3, 5, 4, 3, 2, 3, 4, 5, 3, 3, 4, 1, 3, 2, 2, 2, 4, 1, 2, 3, 5], \"Freq\": [0.9606064649491807, 0.91150307280123, 0.8670732050902533, 0.9612085582450245, 0.9800997552077899, 0.6416528225307644, 0.27499406679889904, 0.9623805855256001, 0.8753768122976135, 0.9827839355652332, 0.6595224071402127, 0.29978291233646037, 0.8863633568247757, 0.9245426684595685, 0.950432923182639, 0.7366098208422008, 0.004025190277826234, 0.24553660694740026, 0.016100761111304936, 0.8142467780661596, 0.8706511130806536, 0.8723962571361297, 0.9937752395747191, 0.974711237985815, 0.9715441480917174, 0.986485207647196, 0.9663789844757822, 0.3518117483957599, 0.6295578655503072, 0.915505303395899, 0.9267717509520352, 0.32032868782219165, 0.4435320292922654, 0.24640668294014742, 0.8505001191866705, 0.8865501173159731, 0.9548891249926978, 0.9733684679490142, 0.6923653096269305, 0.29672798984011306, 0.9144381691859892, 0.9028326073964664, 0.7220678152443814, 0.24068927174812713, 0.8789599131433985, 0.8251678734105062, 0.9688930975238591, 0.9343083367073199, 0.36850958399928474, 0.5988280739988376, 0.9578592744174272, 0.9040615377509089, 0.9843879527198556, 0.8875071941287755, 0.9705265893860939, 0.3288519512485311, 0.5754909146849295, 0.981902842802219, 0.8745568295489404, 0.10288903877046358, 0.9444046881980735, 0.8342623013138415, 0.1544930187618225, 0.9806889227663286, 0.9088197891635266, 0.9090939396404147, 0.8908189414841498, 0.8080371374450244, 0.9500221221277307, 0.9747577913167934, 0.8265271551297564, 0.7487719401685643, 0.785244160349345, 0.17449870229985442, 0.7772430196601072, 0.8914421604974098, 0.9483164931457634, 0.9396271309577917, 0.9431898175122628, 0.842198742749448, 0.9359079048516452, 0.9169546670170828, 0.8888986446129065, 0.8655320032835978, 0.5970432920715062, 0.3316907178175035, 0.9203061139450842, 0.8987117995621493, 0.9235808552524131, 0.8341247664241279, 0.8934891910280977, 0.9485313204929199, 0.9189818461415932, 0.9699325645849886, 0.8197296077173374, 0.9387322827204582, 0.9688686314813932, 0.8115657552128799, 0.1909566482853835, 0.929537020129921, 0.9494065564578622, 0.8533167264182382, 0.9741503451252465, 0.9698442061625032, 0.7371187399772977, 0.9896090291485321, 0.9663687877692504, 0.9281023430516624, 0.875881022108601, 0.09732011356762232, 0.6004239529245061, 0.38208797004286754, 0.9711025447934968, 0.9705289947617052, 0.9771335086556237, 0.9538097023633852, 0.9355627607870522, 0.9079728888021533, 0.7776694750239324, 0.966681426660841, 0.9564112351146236, 0.983866739333313, 0.983053989212494, 0.9193317697610354, 0.941385384157039, 0.7311948852826805, 0.9164404034836838, 0.8928406047035501, 0.8554285739956519, 0.22622840650304094, 0.735242321134883, 0.858046358323185, 0.9277427102073992, 0.9069871121692198, 0.9740346127048627, 0.9233906063710031, 0.9136773673342254, 0.8787239856462951, 0.8140765549726782, 0.9073772170126746, 0.9120629519525802, 0.8738745950628969, 0.7938367626089792, 0.17640816946866203, 0.5770745365623989, 0.3297568780356565, 0.9563271060450291, 0.9479344342347066, 0.9505270566360797, 0.9168879142130475, 0.8245918222066708, 0.976807936578048, 0.9783712677758425, 0.9685091957647902, 0.9270749042083568, 0.863484688943736, 0.8651549638095424, 0.88700575450354, 0.8568503933905816, 0.7603428380638118, 0.8139851054161816, 0.9037427573989647, 0.9183425073426932, 0.9659601499756049, 0.773485395754296, 0.3041269628078264, 0.6517006345881995, 0.8992045601602985, 0.8770708853401208, 0.9133674206838462, 0.953744428773171, 0.37986568004735866, 0.6077850880757738, 0.845440067615956, 0.8148145173239354, 0.17758777941675513, 0.939689371129506, 0.9336664520158735, 0.826647648162722, 0.9868213751783205, 0.8920895289197744, 0.8741433048539115, 0.9163089730006783, 0.9028097880009672, 0.9684065945464068, 0.8266527851179414, 0.9089189358133055, 0.5904238660420383, 0.2214089497657644, 0.14760596651050958, 0.819102983151165, 0.8797430575124128, 0.9395969306485278, 0.9047348662647241, 0.3928819016490631, 0.5893228524735946, 0.8675216294177686, 0.8199367416878935, 0.9125644080743459, 0.8151052818983772, 0.9902625213928097, 0.21347630555755454, 0.4981113796342939, 0.2846350740767394], \"Term\": [\"ago\", \"angel\", \"anymore\", \"bad\", \"battle\", \"beat\", \"beat\", \"beautiful\", \"birthday\", \"blood\", \"brain\", \"brain\", \"break\", \"breast\", \"brother\", \"cancer\", \"cancer\", \"cancer\", \"cancer\", \"caregiver\", \"cause\", \"cell\", \"chemo\", \"chemotherapy\", \"colon\", \"come\", \"cycle\", \"dad\", \"dad\", \"damn\", \"daughter\", \"day\", \"day\", \"day\", \"deal\", \"death\", \"diagnose\", \"diagnosis\", \"die\", \"die\", \"do\", \"doctor\", \"end\", \"end\", \"experience\", \"face\", \"family\", \"father\", \"feel\", \"feel\", \"fight\", \"final\", \"finally\", \"finish\", \"free\", \"friend\", \"friend\", \"fuck\", \"get\", \"get\", \"give\", \"go\", \"go\", \"good\", \"great\", \"guess\", \"hair\", \"happen\", \"happy\", \"hard\", \"hear\", \"heart\", \"help\", \"help\", \"hero\", \"home\", \"hospital\", \"hour\", \"husband\", \"ill\", \"inoperable\", \"iv\", \"journey\", \"kill\", \"know\", \"know\", \"later\", \"leave\", \"let\", \"letter\", \"leukemia\", \"life\", \"little\", \"live\", \"lonely\", \"long\", \"look\", \"lose\", \"lose\", \"love\", \"lung\", \"lymphoma\", \"m\", \"met\", \"miss\", \"mom\", \"month\", \"morning\", \"mother\", \"mother\", \"need\", \"need\", \"new\", \"news\", \"night\", \"officially\", \"old\", \"oncologist\", \"ovarian\", \"pain\", \"pancreatic\", \"pass\", \"passed_away\", \"patient\", \"people\", \"person\", \"pet\", \"pm\", \"port\", \"post\", \"post\", \"process\", \"real\", \"really\", \"remission\", \"remove\", \"result\", \"right\", \"round\", \"rule\", \"s\", \"sad\", \"say\", \"say\", \"scan\", \"scan\", \"see\", \"share\", \"shit\", \"sick\", \"sister\", \"son\", \"stage\", \"start\", \"stem\", \"story\", \"strong\", \"struggle\", \"sub\", \"suck\", \"suddenly\", \"sure\", \"surgery\", \"take\", \"talk\", \"tell\", \"tell\", \"terminal\", \"thank\", \"thing\", \"think\", \"time\", \"time\", \"tired\", \"today\", \"today\", \"tomorrow\", \"tonight\", \"treat\", \"treatment\", \"try\", \"tumor\", \"turn\", \"update\", \"ve\", \"vent\", \"wait\", \"want\", \"want\", \"want\", \"watch\", \"way\", \"week\", \"well\", \"wife\", \"wife\", \"wish\", \"work\", \"world\", \"write\", \"year\", \"yesterday\", \"yesterday\", \"yesterday\"]}, \"R\": 30, \"lambda.step\": 0.01, \"plot.opts\": {\"xlab\": \"PC1\", \"ylab\": \"PC2\"}, \"topic.order\": [5, 4, 1, 2, 3]};\n",
       "\n",
       "function LDAvis_load_lib(url, callback){\n",
       "  var s = document.createElement('script');\n",
       "  s.src = url;\n",
       "  s.async = true;\n",
       "  s.onreadystatechange = s.onload = callback;\n",
       "  s.onerror = function(){console.warn(\"failed to load library \" + url);};\n",
       "  document.getElementsByTagName(\"head\")[0].appendChild(s);\n",
       "}\n",
       "\n",
       "if(typeof(LDAvis) !== \"undefined\"){\n",
       "   // already loaded: just create the visualization\n",
       "   !function(LDAvis){\n",
       "       new LDAvis(\"#\" + \"ldavis_el278642749771901856875121254\", ldavis_el278642749771901856875121254_data);\n",
       "   }(LDAvis);\n",
       "}else if(typeof define === \"function\" && define.amd){\n",
       "   // require.js is available: use it to load d3/LDAvis\n",
       "   require.config({paths: {d3: \"https://d3js.org/d3.v5\"}});\n",
       "   require([\"d3\"], function(d3){\n",
       "      window.d3 = d3;\n",
       "      LDAvis_load_lib(\"https://cdn.jsdelivr.net/gh/bmabey/pyLDAvis@3.3.1/pyLDAvis/js/ldavis.v3.0.0.js\", function(){\n",
       "        new LDAvis(\"#\" + \"ldavis_el278642749771901856875121254\", ldavis_el278642749771901856875121254_data);\n",
       "      });\n",
       "    });\n",
       "}else{\n",
       "    // require.js not available: dynamically load d3 & LDAvis\n",
       "    LDAvis_load_lib(\"https://d3js.org/d3.v5.js\", function(){\n",
       "         LDAvis_load_lib(\"https://cdn.jsdelivr.net/gh/bmabey/pyLDAvis@3.3.1/pyLDAvis/js/ldavis.v3.0.0.js\", function(){\n",
       "                 new LDAvis(\"#\" + \"ldavis_el278642749771901856875121254\", ldavis_el278642749771901856875121254_data);\n",
       "            })\n",
       "         });\n",
       "}\n",
       "</script>"
      ],
      "text/plain": [
       "<IPython.core.display.HTML object>"
      ]
     },
     "execution_count": 276,
     "metadata": {},
     "output_type": "execute_result"
    }
   ],
   "source": [
    "pyLDAvis.enable_notebook()\n",
    "panel = pyLDAvis.gensim_models.prepare(lda_model, corpus, id2word, mds='tsne', sort_topics=True)\n",
    "\n",
    "\n",
    "\n",
    "topic_data =  pyLDAvis.gensim_models.prepare(lda_model, corpus, id2word, mds = 'pcoa', sort_topics=True)\n",
    "pyLDAvis.display(topic_data)"
   ]
  },
  {
   "cell_type": "code",
   "execution_count": 240,
   "id": "637f6024",
   "metadata": {
    "scrolled": true
   },
   "outputs": [
    {
     "data": {
      "text/html": [
       "\n",
       "<link rel=\"stylesheet\" type=\"text/css\" href=\"https://cdn.jsdelivr.net/gh/bmabey/pyLDAvis@3.3.1/pyLDAvis/js/ldavis.v1.0.0.css\">\n",
       "\n",
       "\n",
       "<div id=\"ldavis_el2786427497716470084155529352\"></div>\n",
       "<script type=\"text/javascript\">\n",
       "\n",
       "var ldavis_el2786427497716470084155529352_data = {\"mdsDat\": {\"x\": [1.425140142440796, 93.69695281982422, 141.6940155029297, -126.23350524902344, -59.868133544921875, 151.9666290283203, 12.54269027709961, 49.37258529663086, 203.50599670410156, 119.92347717285156, -19.31559181213379, -95.84105682373047, 37.55474853515625, 243.64891052246094], \"y\": [-203.13143920898438, -55.01815414428711, 25.3204288482666, 5.739787578582764, 101.51930236816406, 133.119140625, -101.44165802001953, 57.773475646972656, -84.54183959960938, -166.0689697265625, -8.882428169250488, -109.37347412109375, 165.05709838867188, 32.73354721069336], \"topics\": [1, 2, 3, 4, 5, 6, 7, 8, 9, 10, 11, 12, 13, 14], \"cluster\": [1, 1, 1, 1, 1, 1, 1, 1, 1, 1, 1, 1, 1, 1], \"Freq\": [17.117747163839752, 9.583301730712218, 9.583300737301457, 9.583300406164536, 9.583299743890697, 9.583299743890697, 9.583298750479937, 9.583298088206096, 2.6331936695696503, 2.633193297040615, 2.633192365718027, 2.633192365718027, 2.6331914343954392, 2.6331905030728513]}, \"tinfo\": {\"Term\": [\"i\", \"score\", \"num_comment\", \"body\", \"title\", \"comment\", \"url\", \"subreddit\", \"create\", \"subreddit\", \"create\", \"title\", \"url\", \"num_comment\", \"body\", \"comment\", \"score\", \"i\", \"i\", \"title\", \"url\", \"body\", \"num_comment\", \"comment\", \"score\", \"subreddit\", \"create\", \"score\", \"title\", \"url\", \"body\", \"num_comment\", \"comment\", \"i\", \"subreddit\", \"create\", \"comment\", \"title\", \"url\", \"body\", \"num_comment\", \"score\", \"i\", \"subreddit\", \"create\", \"num_comment\", \"title\", \"url\", \"body\", \"comment\", \"score\", \"i\", \"subreddit\", \"create\", \"body\", \"title\", \"url\", \"num_comment\", \"comment\", \"score\", \"i\", \"subreddit\", \"create\", \"url\", \"title\", \"body\", \"num_comment\", \"score\", \"i\", \"comment\", \"subreddit\", \"create\", \"title\", \"url\", \"body\", \"num_comment\", \"comment\", \"score\", \"i\", \"subreddit\", \"create\", \"title\", \"url\", \"body\", \"num_comment\", \"comment\", \"score\", \"i\", \"subreddit\", \"create\", \"title\", \"url\", \"body\", \"num_comment\", \"comment\", \"score\", \"i\", \"subreddit\", \"create\", \"title\", \"url\", \"body\", \"num_comment\", \"score\", \"i\", \"comment\", \"subreddit\", \"create\", \"title\", \"url\", \"body\", \"num_comment\", \"comment\", \"score\", \"i\", \"subreddit\", \"create\", \"title\", \"url\", \"body\", \"num_comment\", \"comment\", \"score\", \"i\", \"subreddit\", \"create\", \"title\", \"url\", \"body\", \"num_comment\", \"comment\", \"score\", \"i\", \"subreddit\", \"create\"], \"Freq\": [0.0, 0.0, 0.0, 0.0, 0.0, 0.0, 0.0, 1.0, 1.0, 0.6245662989498146, 0.6245662989498146, 0.04163780395933932, 0.04163780395933932, 0.04163780395933932, 0.04163780395933932, 0.04163780395933932, 0.04163780395933932, 0.04163780395933932, 0.5624980029209059, 0.037499898991916136, 0.037499898991916136, 0.037499898991916136, 0.037499898991916136, 0.037499898991916136, 0.037499898991916136, 0.037499898991916136, 0.037499898991916136, 0.5624979446120282, 0.03749989510465429, 0.03749989510465429, 0.03749989510465429, 0.03749989510465429, 0.03749989510465429, 0.03749989510465429, 0.03749989510465429, 0.03749989510465429, 0.5624979251757356, 0.03749988738279675, 0.03749988738279675, 0.03749988738279675, 0.03749988738279675, 0.03749988738279675, 0.03749988738279675, 0.03749988738279675, 0.03749988738279675, 0.5624978863031505, 0.037499891217392445, 0.037499891217392445, 0.037499891217392445, 0.037499891217392445, 0.037499891217392445, 0.037499891217392445, 0.037499891217392445, 0.037499891217392445, 0.5624978863031505, 0.037499891217392445, 0.037499891217392445, 0.037499891217392445, 0.037499891217392445, 0.037499891217392445, 0.037499891217392445, 0.037499891217392445, 0.037499891217392445, 0.5624978279942727, 0.037499880904028116, 0.037499880904028116, 0.037499880904028116, 0.037499880904028116, 0.037499880904028116, 0.037499877690976874, 0.037499880904028116, 0.037499880904028116, 0.5624977891216876, 0.0374998847386227, 0.0374998847386227, 0.0374998847386227, 0.0374998847386227, 0.0374998847386227, 0.0374998847386227, 0.0374998847386227, 0.0374998847386227, 0.0263319365158573, 0.0263319365158573, 0.0263319365158573, 0.0263319365158573, 0.0263319365158573, 0.0263319365158573, 0.0263319365158573, 0.0263319365158573, 0.0263319365158573, 0.026331932790566975, 0.026331932790566975, 0.026331932790566975, 0.026331932790566975, 0.026331932790566975, 0.026331932790566975, 0.026331932790566975, 0.026331932790566975, 0.026331932790566975, 0.02633192347734116, 0.02633192347734116, 0.02633192347734116, 0.02633192347734116, 0.02633192347734116, 0.02633192347734116, 0.02633191994595506, 0.02633192347734116, 0.02633192347734116, 0.02633192347734116, 0.02633192347734116, 0.02633192347734116, 0.02633192347734116, 0.02633192347734116, 0.02633192347734116, 0.02633192347734116, 0.02633192347734116, 0.02633192347734116, 0.026331914164115344, 0.026331914164115344, 0.026331914164115344, 0.026331914164115344, 0.026331914164115344, 0.026331914164115344, 0.026331914164115344, 0.026331914164115344, 0.026331914164115344, 0.02633190485088953, 0.02633190485088953, 0.02633190485088953, 0.02633190485088953, 0.02633190485088953, 0.02633190485088953, 0.02633190485088953, 0.02633190485088953, 0.02633190485088953], \"Total\": [0.0, 0.0, 0.0, 0.0, 0.0, 0.0, 0.0, 1.0, 1.0, 1.0450570637827292, 1.0450570637827292, 0.9871264731753185, 0.9871265158824983, 0.9871265638780119, 0.9871265638780117, 0.9871265998407553, 0.9871266182996278, 0.9871266727212437, 0.9871266727212437, 0.9871264731753185, 0.9871265158824983, 0.9871265638780117, 0.9871265638780119, 0.9871265998407553, 0.9871266182996278, 1.0450570637827292, 1.0450570637827292, 0.9871266182996278, 0.9871264731753185, 0.9871265158824983, 0.9871265638780117, 0.9871265638780119, 0.9871265998407553, 0.9871266727212437, 1.0450570637827292, 1.0450570637827292, 0.9871265998407553, 0.9871264731753185, 0.9871265158824983, 0.9871265638780117, 0.9871265638780119, 0.9871266182996278, 0.9871266727212437, 1.0450570637827292, 1.0450570637827292, 0.9871265638780119, 0.9871264731753185, 0.9871265158824983, 0.9871265638780117, 0.9871265998407553, 0.9871266182996278, 0.9871266727212437, 1.0450570637827292, 1.0450570637827292, 0.9871265638780117, 0.9871264731753185, 0.9871265158824983, 0.9871265638780119, 0.9871265998407553, 0.9871266182996278, 0.9871266727212437, 1.0450570637827292, 1.0450570637827292, 0.9871265158824983, 0.9871264731753185, 0.9871265638780117, 0.9871265638780119, 0.9871266182996278, 0.9871266727212437, 0.9871265998407553, 1.0450570637827292, 1.0450570637827292, 0.9871264731753185, 0.9871265158824983, 0.9871265638780117, 0.9871265638780119, 0.9871265998407553, 0.9871266182996278, 0.9871266727212437, 1.0450570637827292, 1.0450570637827292, 0.9871264731753185, 0.9871265158824983, 0.9871265638780117, 0.9871265638780119, 0.9871265998407553, 0.9871266182996278, 0.9871266727212437, 1.0450570637827292, 1.0450570637827292, 0.9871264731753185, 0.9871265158824983, 0.9871265638780117, 0.9871265638780119, 0.9871265998407553, 0.9871266182996278, 0.9871266727212437, 1.0450570637827292, 1.0450570637827292, 0.9871264731753185, 0.9871265158824983, 0.9871265638780117, 0.9871265638780119, 0.9871266182996278, 0.9871266727212437, 0.9871265998407553, 1.0450570637827292, 1.0450570637827292, 0.9871264731753185, 0.9871265158824983, 0.9871265638780117, 0.9871265638780119, 0.9871265998407553, 0.9871266182996278, 0.9871266727212437, 1.0450570637827292, 1.0450570637827292, 0.9871264731753185, 0.9871265158824983, 0.9871265638780117, 0.9871265638780119, 0.9871265998407553, 0.9871266182996278, 0.9871266727212437, 1.0450570637827292, 1.0450570637827292, 0.9871264731753185, 0.9871265158824983, 0.9871265638780117, 0.9871265638780119, 0.9871265998407553, 0.9871266182996278, 0.9871266727212437, 1.0450570637827292, 1.0450570637827292], \"Category\": [\"Default\", \"Default\", \"Default\", \"Default\", \"Default\", \"Default\", \"Default\", \"Default\", \"Default\", \"Topic1\", \"Topic1\", \"Topic1\", \"Topic1\", \"Topic1\", \"Topic1\", \"Topic1\", \"Topic1\", \"Topic1\", \"Topic2\", \"Topic2\", \"Topic2\", \"Topic2\", \"Topic2\", \"Topic2\", \"Topic2\", \"Topic2\", \"Topic2\", \"Topic3\", \"Topic3\", \"Topic3\", \"Topic3\", \"Topic3\", \"Topic3\", \"Topic3\", \"Topic3\", \"Topic3\", \"Topic4\", \"Topic4\", \"Topic4\", \"Topic4\", \"Topic4\", \"Topic4\", \"Topic4\", \"Topic4\", \"Topic4\", \"Topic5\", \"Topic5\", \"Topic5\", \"Topic5\", \"Topic5\", \"Topic5\", \"Topic5\", \"Topic5\", \"Topic5\", \"Topic6\", \"Topic6\", \"Topic6\", \"Topic6\", \"Topic6\", \"Topic6\", \"Topic6\", \"Topic6\", \"Topic6\", \"Topic7\", \"Topic7\", \"Topic7\", \"Topic7\", \"Topic7\", \"Topic7\", \"Topic7\", \"Topic7\", \"Topic7\", \"Topic8\", \"Topic8\", \"Topic8\", \"Topic8\", \"Topic8\", \"Topic8\", \"Topic8\", \"Topic8\", \"Topic8\", \"Topic9\", \"Topic9\", \"Topic9\", \"Topic9\", \"Topic9\", \"Topic9\", \"Topic9\", \"Topic9\", \"Topic9\", \"Topic10\", \"Topic10\", \"Topic10\", \"Topic10\", \"Topic10\", \"Topic10\", \"Topic10\", \"Topic10\", \"Topic10\", \"Topic11\", \"Topic11\", \"Topic11\", \"Topic11\", \"Topic11\", \"Topic11\", \"Topic11\", \"Topic11\", \"Topic11\", \"Topic12\", \"Topic12\", \"Topic12\", \"Topic12\", \"Topic12\", \"Topic12\", \"Topic12\", \"Topic12\", \"Topic12\", \"Topic13\", \"Topic13\", \"Topic13\", \"Topic13\", \"Topic13\", \"Topic13\", \"Topic13\", \"Topic13\", \"Topic13\", \"Topic14\", \"Topic14\", \"Topic14\", \"Topic14\", \"Topic14\", \"Topic14\", \"Topic14\", \"Topic14\", \"Topic14\"], \"logprob\": [9.0, 8.0, 7.0, 6.0, 5.0, 4.0, 3.0, 2.0, 1.0, -0.9029, -0.9029, -3.6109, -3.6109, -3.6109, -3.6109, -3.6109, -3.6109, -3.6109, -0.4274, -3.1355, -3.1355, -3.1355, -3.1355, -3.1355, -3.1355, -3.1355, -3.1355, -0.4274, -3.1355, -3.1355, -3.1355, -3.1355, -3.1355, -3.1355, -3.1355, -3.1355, -0.4274, -3.1355, -3.1355, -3.1355, -3.1355, -3.1355, -3.1355, -3.1355, -3.1355, -0.4274, -3.1355, -3.1355, -3.1355, -3.1355, -3.1355, -3.1355, -3.1355, -3.1355, -0.4274, -3.1355, -3.1355, -3.1355, -3.1355, -3.1355, -3.1355, -3.1355, -3.1355, -0.4274, -3.1355, -3.1355, -3.1355, -3.1355, -3.1355, -3.1355, -3.1355, -3.1355, -0.4274, -3.1355, -3.1355, -3.1355, -3.1355, -3.1355, -3.1355, -3.1355, -3.1355, -2.1972, -2.1972, -2.1972, -2.1972, -2.1972, -2.1972, -2.1972, -2.1972, -2.1972, -2.1972, -2.1972, -2.1972, -2.1972, -2.1972, -2.1972, -2.1972, -2.1972, -2.1972, -2.1972, -2.1972, -2.1972, -2.1972, -2.1972, -2.1972, -2.1972, -2.1972, -2.1972, -2.1972, -2.1972, -2.1972, -2.1972, -2.1972, -2.1972, -2.1972, -2.1972, -2.1972, -2.1972, -2.1972, -2.1972, -2.1972, -2.1972, -2.1972, -2.1972, -2.1972, -2.1972, -2.1972, -2.1972, -2.1972, -2.1972, -2.1972, -2.1972, -2.1972, -2.1972, -2.1972], \"loglift\": [9.0, 8.0, 7.0, 6.0, 5.0, 4.0, 3.0, 2.0, 1.0, 1.2503, 1.2503, -1.4007, -1.4007, -1.4007, -1.4007, -1.4007, -1.4007, -1.4007, 1.7827, -0.9253, -0.9253, -0.9253, -0.9253, -0.9253, -0.9253, -0.9823, -0.9823, 1.7827, -0.9253, -0.9253, -0.9253, -0.9253, -0.9253, -0.9253, -0.9823, -0.9823, 1.7827, -0.9253, -0.9253, -0.9253, -0.9253, -0.9253, -0.9253, -0.9823, -0.9823, 1.7827, -0.9253, -0.9253, -0.9253, -0.9253, -0.9253, -0.9253, -0.9823, -0.9823, 1.7827, -0.9253, -0.9253, -0.9253, -0.9253, -0.9253, -0.9253, -0.9823, -0.9823, 1.7827, -0.9253, -0.9253, -0.9253, -0.9253, -0.9253, -0.9253, -0.9823, -0.9823, 1.7827, -0.9253, -0.9253, -0.9253, -0.9253, -0.9253, -0.9253, -0.9823, -0.9823, 0.013, 0.013, 0.013, 0.013, 0.013, 0.013, 0.013, -0.0441, -0.0441, 0.013, 0.013, 0.013, 0.013, 0.013, 0.013, 0.013, -0.0441, -0.0441, 0.013, 0.013, 0.013, 0.013, 0.013, 0.013, 0.013, -0.0441, -0.0441, 0.013, 0.013, 0.013, 0.013, 0.013, 0.013, 0.013, -0.0441, -0.0441, 0.013, 0.013, 0.013, 0.013, 0.013, 0.013, 0.013, -0.0441, -0.0441, 0.013, 0.013, 0.013, 0.013, 0.013, 0.013, 0.013, -0.0441, -0.0441]}, \"token.table\": {\"Topic\": [6, 4, 1, 2, 5, 3, 1, 8, 7], \"Freq\": [1.0130413227574526, 1.0130412858505904, 0.9568855468813934, 1.013041211056802, 1.0130413227574524, 1.013041266907124, 0.9568855468813934, 1.0130414158413468, 1.0130413720129812], \"Term\": [\"body\", \"comment\", \"create\", \"i\", \"num_comment\", \"score\", \"subreddit\", \"title\", \"url\"]}, \"R\": 9, \"lambda.step\": 0.01, \"plot.opts\": {\"xlab\": \"PC1\", \"ylab\": \"PC2\"}, \"topic.order\": [10, 1, 8, 14, 6, 9, 5, 4, 11, 13, 3, 12, 2, 7]};\n",
       "\n",
       "function LDAvis_load_lib(url, callback){\n",
       "  var s = document.createElement('script');\n",
       "  s.src = url;\n",
       "  s.async = true;\n",
       "  s.onreadystatechange = s.onload = callback;\n",
       "  s.onerror = function(){console.warn(\"failed to load library \" + url);};\n",
       "  document.getElementsByTagName(\"head\")[0].appendChild(s);\n",
       "}\n",
       "\n",
       "if(typeof(LDAvis) !== \"undefined\"){\n",
       "   // already loaded: just create the visualization\n",
       "   !function(LDAvis){\n",
       "       new LDAvis(\"#\" + \"ldavis_el2786427497716470084155529352\", ldavis_el2786427497716470084155529352_data);\n",
       "   }(LDAvis);\n",
       "}else if(typeof define === \"function\" && define.amd){\n",
       "   // require.js is available: use it to load d3/LDAvis\n",
       "   require.config({paths: {d3: \"https://d3js.org/d3.v5\"}});\n",
       "   require([\"d3\"], function(d3){\n",
       "      window.d3 = d3;\n",
       "      LDAvis_load_lib(\"https://cdn.jsdelivr.net/gh/bmabey/pyLDAvis@3.3.1/pyLDAvis/js/ldavis.v3.0.0.js\", function(){\n",
       "        new LDAvis(\"#\" + \"ldavis_el2786427497716470084155529352\", ldavis_el2786427497716470084155529352_data);\n",
       "      });\n",
       "    });\n",
       "}else{\n",
       "    // require.js not available: dynamically load d3 & LDAvis\n",
       "    LDAvis_load_lib(\"https://d3js.org/d3.v5.js\", function(){\n",
       "         LDAvis_load_lib(\"https://cdn.jsdelivr.net/gh/bmabey/pyLDAvis@3.3.1/pyLDAvis/js/ldavis.v3.0.0.js\", function(){\n",
       "                 new LDAvis(\"#\" + \"ldavis_el2786427497716470084155529352\", ldavis_el2786427497716470084155529352_data);\n",
       "            })\n",
       "         });\n",
       "}\n",
       "</script>"
      ],
      "text/plain": [
       "<IPython.core.display.HTML object>"
      ]
     },
     "execution_count": 240,
     "metadata": {},
     "output_type": "execute_result"
    }
   ],
   "source": [
    "pyLDAvis.display(panel)"
   ]
  },
  {
   "cell_type": "code",
   "execution_count": 278,
   "id": "f1b7806e",
   "metadata": {},
   "outputs": [],
   "source": [
    "def compute_coherence_values(dictionary, corpus, texts, limit, start=2, step=3):\n",
    "    coherence_values = []\n",
    "    model_list = []\n",
    "    for num_topics in range(start, limit, step):\n",
    "        model = LdaModel(corpus=corpus, num_topics=num_topics, id2word=id2word)\n",
    "        model_list.append(model)\n",
    "        coherencemodel = CoherenceModel(model=model, texts=texts, dictionary=dictionary, coherence='c_v')\n",
    "        coherence_values.append(coherencemodel.get_coherence())\n",
    "\n",
    "    return model_list, coherence_values"
   ]
  },
  {
   "cell_type": "code",
   "execution_count": 279,
   "id": "b78a7e81",
   "metadata": {},
   "outputs": [
    {
     "name": "stderr",
     "output_type": "stream",
     "text": [
      "WARNING:gensim.models.ldamodel:too few updates, training might not converge; consider increasing the number of passes or iterations to improve accuracy\n",
      "WARNING:gensim.models.ldamodel:too few updates, training might not converge; consider increasing the number of passes or iterations to improve accuracy\n",
      "WARNING:gensim.models.ldamodel:too few updates, training might not converge; consider increasing the number of passes or iterations to improve accuracy\n",
      "WARNING:gensim.models.ldamodel:too few updates, training might not converge; consider increasing the number of passes or iterations to improve accuracy\n",
      "WARNING:gensim.models.ldamodel:too few updates, training might not converge; consider increasing the number of passes or iterations to improve accuracy\n"
     ]
    }
   ],
   "source": [
    "model_list, coherence_values = compute_coherence_values(dictionary=id2word, corpus=corpus, texts=data_lemmatized, start=1, limit=6, step=1)"
   ]
  },
  {
   "cell_type": "code",
   "execution_count": 280,
   "id": "5bda0b5b",
   "metadata": {},
   "outputs": [
    {
     "data": {
      "image/png": "[encoded data removed]",
      "text/plain": [
       "<Figure size 864x864 with 1 Axes>"
      ]
     },
     "metadata": {
      "needs_background": "light"
     },
     "output_type": "display_data"
    }
   ],
   "source": [
    "limit=6; start=1; step=1;\n",
    "x = range(start, limit, step)\n",
    "plt.figure(figsize=(12,12))\n",
    "plt.plot(x, coherence_values)\n",
    "plt.xlabel(\"Num Topics\")\n",
    "plt.ylabel(\"Coherence score\")\n",
    "plt.legend((\"coherence_values\"), loc='best')\n",
    "plt.show()"
   ]
  },
  {
   "cell_type": "code",
   "execution_count": 281,
   "id": "918c4f20",
   "metadata": {},
   "outputs": [
    {
     "name": "stdout",
     "output_type": "stream",
     "text": [
      "Num Topics = 1  has Coherence Value of 0.3851\n",
      "Num Topics = 2  has Coherence Value of 0.3423\n",
      "Num Topics = 3  has Coherence Value of 0.3631\n",
      "Num Topics = 4  has Coherence Value of 0.3511\n",
      "Num Topics = 5  has Coherence Value of 0.3459\n"
     ]
    }
   ],
   "source": [
    "for m, cv in zip(x, coherence_values):\n",
    "    print(\"Num Topics =\", m, \" has Coherence Value of\", round(cv, 4))"
   ]
  },
  {
   "cell_type": "code",
   "execution_count": 282,
   "id": "dde68f40",
   "metadata": {},
   "outputs": [
    {
     "name": "stdout",
     "output_type": "stream",
     "text": [
      "[(0, '0.027*\"good\" + 0.022*\"news\" + 0.022*\"cancer\" + 0.019*\"go\" + 0.012*\"today\" + 0.010*\"treatment\" + 0.009*\"dad\" + 0.008*\"live\" + 0.008*\"stage\" + 0.008*\"end\"'), (1, '0.054*\"cancer\" + 0.020*\"mom\" + 0.019*\"today\" + 0.014*\"month\" + 0.013*\"lose\" + 0.013*\"chemo\" + 0.010*\"pass\" + 0.010*\"get\" + 0.010*\"remission\" + 0.009*\"go\"'), (2, '0.072*\"cancer\" + 0.024*\"day\" + 0.021*\"today\" + 0.017*\"stage\" + 0.016*\"fuck\" + 0.012*\"die\" + 0.012*\"mom\" + 0.011*\"dad\" + 0.011*\"time\" + 0.010*\"diagnose\"'), (3, '0.065*\"cancer\" + 0.038*\"year\" + 0.022*\"today\" + 0.019*\"free\" + 0.018*\"chemo\" + 0.018*\"m\" + 0.018*\"lose\" + 0.017*\"die\" + 0.013*\"dad\" + 0.011*\"battle\"')]\n"
     ]
    }
   ],
   "source": [
    "# Select the model and print the topics\n",
    "\n",
    "optimal_model = model_list[3]\n",
    "model_topics = optimal_model.show_topics(formatted=False)\n",
    "print(optimal_model.print_topics(num_words=10))"
   ]
  },
  {
   "cell_type": "code",
   "execution_count": 283,
   "id": "aea3df98",
   "metadata": {},
   "outputs": [
    {
     "data": {
      "text/html": [
       "<div>\n",
       "<style scoped>\n",
       "    .dataframe tbody tr th:only-of-type {\n",
       "        vertical-align: middle;\n",
       "    }\n",
       "\n",
       "    .dataframe tbody tr th {\n",
       "        vertical-align: top;\n",
       "    }\n",
       "\n",
       "    .dataframe thead th {\n",
       "        text-align: right;\n",
       "    }\n",
       "</style>\n",
       "<table border=\"1\" class=\"dataframe\">\n",
       "  <thead>\n",
       "    <tr style=\"text-align: right;\">\n",
       "      <th></th>\n",
       "      <th>Document_No</th>\n",
       "      <th>Dominant_Topic</th>\n",
       "      <th>Topic_Perc_Contrib</th>\n",
       "      <th>Keywords</th>\n",
       "      <th>Text</th>\n",
       "    </tr>\n",
       "  </thead>\n",
       "  <tbody>\n",
       "    <tr>\n",
       "      <th>0</th>\n",
       "      <td>0</td>\n",
       "      <td>3.0</td>\n",
       "      <td>0.9026</td>\n",
       "      <td>cancer, year, today, free, chemo, m, lose, die...</td>\n",
       "      <td>Today is the Day After   Resectioning Surgery ...</td>\n",
       "    </tr>\n",
       "    <tr>\n",
       "      <th>1</th>\n",
       "      <td>1</td>\n",
       "      <td>1.0</td>\n",
       "      <td>0.6133</td>\n",
       "      <td>cancer, mom, today, month, lose, chemo, pass, ...</td>\n",
       "      <td>I’m not ready.</td>\n",
       "    </tr>\n",
       "    <tr>\n",
       "      <th>2</th>\n",
       "      <td>2</td>\n",
       "      <td>0.0</td>\n",
       "      <td>0.8902</td>\n",
       "      <td>good, news, cancer, go, today, treatment, dad,...</td>\n",
       "      <td>I’ve got 2 4 weeks to live, we’re in the end g...</td>\n",
       "    </tr>\n",
       "    <tr>\n",
       "      <th>3</th>\n",
       "      <td>3</td>\n",
       "      <td>2.0</td>\n",
       "      <td>0.9150</td>\n",
       "      <td>cancer, day, today, stage, fuck, die, mom, dad...</td>\n",
       "      <td>Dr. gave me 11% survival rate. I give myself a...</td>\n",
       "    </tr>\n",
       "    <tr>\n",
       "      <th>4</th>\n",
       "      <td>4</td>\n",
       "      <td>0.0</td>\n",
       "      <td>0.8381</td>\n",
       "      <td>good, news, cancer, go, today, treatment, dad,...</td>\n",
       "      <td>Its been a difficult year with my husband batt...</td>\n",
       "    </tr>\n",
       "  </tbody>\n",
       "</table>\n",
       "</div>"
      ],
      "text/plain": [
       "   Document_No  Dominant_Topic  Topic_Perc_Contrib  \\\n",
       "0            0             3.0              0.9026   \n",
       "1            1             1.0              0.6133   \n",
       "2            2             0.0              0.8902   \n",
       "3            3             2.0              0.9150   \n",
       "4            4             0.0              0.8381   \n",
       "\n",
       "                                            Keywords  \\\n",
       "0  cancer, year, today, free, chemo, m, lose, die...   \n",
       "1  cancer, mom, today, month, lose, chemo, pass, ...   \n",
       "2  good, news, cancer, go, today, treatment, dad,...   \n",
       "3  cancer, day, today, stage, fuck, die, mom, dad...   \n",
       "4  good, news, cancer, go, today, treatment, dad,...   \n",
       "\n",
       "                                                Text  \n",
       "0  Today is the Day After   Resectioning Surgery ...  \n",
       "1                                     I’m not ready.  \n",
       "2  I’ve got 2 4 weeks to live, we’re in the end g...  \n",
       "3  Dr. gave me 11% survival rate. I give myself a...  \n",
       "4  Its been a difficult year with my husband batt...  "
      ]
     },
     "execution_count": 283,
     "metadata": {},
     "output_type": "execute_result"
    }
   ],
   "source": [
    "def format_topics_sentences(ldamodel=lda_model, corpus=corpus, texts=data):\n",
    "   \n",
    "    sent_topics_df = pd.DataFrame()\n",
    "\n",
    "   \n",
    "    for i, row in enumerate(ldamodel[corpus]):\n",
    "        row = sorted(row, key=lambda x: (x[1]), reverse=True)\n",
    "        # Get the Dominant topic, Perc Contribution and Keywords for each document\n",
    "        for j, (topic_num, prop_topic) in enumerate(row):\n",
    "            if j == 0:  # -- dominant topic\n",
    "                wp = ldamodel.show_topic(topic_num)\n",
    "                topic_keywords = \", \".join([word for word, prop in wp])\n",
    "                sent_topics_df = sent_topics_df.append(pd.Series([int(topic_num), round(prop_topic,4), topic_keywords]), ignore_index=True)\n",
    "            else:\n",
    "                break\n",
    "    sent_topics_df.columns = ['Dominant_Topic', 'Perc_Contribution', 'Topic_Keywords']\n",
    "\n",
    "    # Add original text to the end of the output\n",
    "    \n",
    "    contents = pd.Series(texts)\n",
    "    sent_topics_df = pd.concat([sent_topics_df, contents], axis=1)\n",
    "    return(sent_topics_df)\n",
    "    \n",
    "\n",
    "df_topic_sents_keywords = format_topics_sentences(ldamodel=optimal_model, corpus=corpus, texts=df)\n",
    "\n",
    "\n",
    "df_dominant_topic = df_topic_sents_keywords.reset_index()\n",
    "df_dominant_topic.columns = ['Document_No', 'Dominant_Topic', 'Topic_Perc_Contrib', 'Keywords', 'Text']\n",
    "\n",
    "\n",
    "df_dominant_topic.head(5)"
   ]
  },
  {
   "cell_type": "markdown",
   "id": "e7b80d0d",
   "metadata": {},
   "source": [
    "# HDP Model: Hierarchical Dirichlet Process"
   ]
  },
  {
   "cell_type": "markdown",
   "id": "c7ca37d7",
   "metadata": {},
   "source": [
    "HDP is a nonparametric Bayesian approach to clustering grouped data. It uses a Dirichlet process for each group of data, with the Dirichlet processes for all groups sharing a base distribution which is itself drawn from a Dirichlet process"
   ]
  },
  {
   "cell_type": "code",
   "execution_count": 284,
   "id": "695e7777",
   "metadata": {},
   "outputs": [],
   "source": [
    "\n",
    "from gensim.models import CoherenceModel, HdpModel\n",
    "hdpmodel = HdpModel(corpus=corpus, id2word=id2word)\n"
   ]
  },
  {
   "cell_type": "code",
   "execution_count": 285,
   "id": "fdde8b7f",
   "metadata": {},
   "outputs": [],
   "source": [
    "\n",
    "hdptopics = hdpmodel.show_topics(formatted=False)"
   ]
  },
  {
   "cell_type": "code",
   "execution_count": 286,
   "id": "f2d56c41",
   "metadata": {},
   "outputs": [
    {
     "data": {
      "text/plain": [
       "(0,\n",
       " [('terminally', 0.005625369139039801),\n",
       "  ('triple', 0.004761234502246676),\n",
       "  ('pump', 0.004639498143978069),\n",
       "  ('hat', 0.004420150637132751),\n",
       "  ('node', 0.004316802492347698),\n",
       "  ('complete', 0.004254281732504364),\n",
       "  ('follower', 0.004180249057175427),\n",
       "  ('aaaaaaaannnnd', 0.004139752668167433),\n",
       "  ('iiib', 0.003992478953877581),\n",
       "  ('liver', 0.0039649949532482),\n",
       "  ('havoc', 0.0037714378430340227),\n",
       "  ('miracle', 0.0036874014380885466),\n",
       "  ('papillary', 0.003594719881685823),\n",
       "  ('realise', 0.0035791204743199152),\n",
       "  ('mom', 0.00350878993885292),\n",
       "  ('clear', 0.0034946203658429483),\n",
       "  ('person', 0.0034255314797677202),\n",
       "  ('curable', 0.0033670696021940952),\n",
       "  ('mother', 0.0033204722397324636),\n",
       "  ('description', 0.0032861795095484795)])"
      ]
     },
     "execution_count": 286,
     "metadata": {},
     "output_type": "execute_result"
    }
   ],
   "source": [
    "hdptopics[0]"
   ]
  },
  {
   "cell_type": "code",
   "execution_count": 287,
   "id": "d98695ec",
   "metadata": {},
   "outputs": [
    {
     "data": {
      "text/plain": [
       "20"
      ]
     },
     "execution_count": 287,
     "metadata": {},
     "output_type": "execute_result"
    }
   ],
   "source": [
    "len(hdptopics)"
   ]
  },
  {
   "cell_type": "markdown",
   "id": "d49c364b",
   "metadata": {},
   "source": [
    "# NMF model: Non-Negative Matrix Factorization"
   ]
  },
  {
   "cell_type": "markdown",
   "id": "5af3a2c1",
   "metadata": {},
   "source": [
    "It is a group of algorithms where a matrix V is factorized into (usually) two matrices W and H, with the property that all three matrices have no negative elements. This non-negativity makes the resulting matrices easier to inspect.\n"
   ]
  },
  {
   "cell_type": "code",
   "execution_count": 291,
   "id": "db0b1074",
   "metadata": {},
   "outputs": [
    {
     "name": "stdout",
     "output_type": "stream",
     "text": [
      "Created 1000 X 1483 document-term matrix\n"
     ]
    }
   ],
   "source": [
    "from nltk.corpus import stopwords;\n",
    "import nltk;\n",
    "from sklearn.feature_extraction.text import CountVectorizer, TfidfTransformer;\n",
    "from sklearn.decomposition import NMF;\n",
    "from sklearn.preprocessing import normalize;\n",
    "title = df_model1.title\n",
    "vectorizer = CountVectorizer(analyzer='word', max_features=5000, stop_words='english', lowercase=True, \n",
    "                             token_pattern='[a-zA-Z\\-][a-zA-Z\\-]{2,}');\n",
    "x_counts = vectorizer.fit_transform(title);\n",
    "print( \"Created %d X %d document-term matrix\" % (x_counts.shape[0], x_counts.shape[1]) )\n",
    "transformer = TfidfTransformer(smooth_idf=False);\n",
    "x_tfidf = transformer.fit_transform(x_counts);"
   ]
  },
  {
   "cell_type": "code",
   "execution_count": 292,
   "id": "f4f0bbde",
   "metadata": {},
   "outputs": [
    {
     "name": "stdout",
     "output_type": "stream",
     "text": [
      "Vocabulary has 1483 distinct terms\n"
     ]
    }
   ],
   "source": [
    "terms = vectorizer.get_feature_names()\n",
    "print(\"Vocabulary has %d distinct terms\" % len(terms))"
   ]
  },
  {
   "cell_type": "code",
   "execution_count": 293,
   "id": "e436dab4",
   "metadata": {},
   "outputs": [
    {
     "data": {
      "text/plain": [
       "NMF(alpha=0.0, beta_loss='frobenius', init='nndsvd', l1_ratio=0.0, max_iter=200,\n",
       "    n_components=5, random_state=None, shuffle=False, solver='cd', tol=0.0001,\n",
       "    verbose=0)"
      ]
     },
     "execution_count": 293,
     "metadata": {},
     "output_type": "execute_result"
    }
   ],
   "source": [
    "xtfidf_norm = normalize(x_tfidf, norm='l1', axis=1)\n",
    "model = NMF(n_components=5, init='nndsvd');\n",
    "model.fit(xtfidf_norm)"
   ]
  },
  {
   "cell_type": "code",
   "execution_count": 294,
   "id": "caea724f",
   "metadata": {},
   "outputs": [],
   "source": [
    "def get_nmf_topics(model, n_top_words):\n",
    "    \n",
    "    feat_names = vectorizer.get_feature_names()\n",
    "    \n",
    "    word_dict = {};\n",
    "    for i in range(num_topics):\n",
    "        \n",
    "        words_ids = model.components_[i].argsort()[:-20 - 1:-1]\n",
    "        words = [feat_names[key] for key in words_ids]\n",
    "        word_dict['Topic # ' + '{:02d}'.format(i+1)] = words;\n",
    "    \n",
    "    return pd.DataFrame(word_dict);"
   ]
  },
  {
   "cell_type": "code",
   "execution_count": 295,
   "id": "90abb35d",
   "metadata": {},
   "outputs": [
    {
     "data": {
      "text/html": [
       "<div>\n",
       "<style scoped>\n",
       "    .dataframe tbody tr th:only-of-type {\n",
       "        vertical-align: middle;\n",
       "    }\n",
       "\n",
       "    .dataframe tbody tr th {\n",
       "        vertical-align: top;\n",
       "    }\n",
       "\n",
       "    .dataframe thead th {\n",
       "        text-align: right;\n",
       "    }\n",
       "</style>\n",
       "<table border=\"1\" class=\"dataframe\">\n",
       "  <thead>\n",
       "    <tr style=\"text-align: right;\">\n",
       "      <th></th>\n",
       "      <th>Topic # 01</th>\n",
       "      <th>Topic # 02</th>\n",
       "      <th>Topic # 03</th>\n",
       "      <th>Topic # 04</th>\n",
       "      <th>Topic # 05</th>\n",
       "    </tr>\n",
       "  </thead>\n",
       "  <tbody>\n",
       "    <tr>\n",
       "      <th>0</th>\n",
       "      <td>cancer</td>\n",
       "      <td>fuck</td>\n",
       "      <td>chemo</td>\n",
       "      <td>lost</td>\n",
       "      <td>remission</td>\n",
       "    </tr>\n",
       "    <tr>\n",
       "      <th>1</th>\n",
       "      <td>free</td>\n",
       "      <td>cancer</td>\n",
       "      <td>treatment</td>\n",
       "      <td>mom</td>\n",
       "      <td>year</td>\n",
       "    </tr>\n",
       "    <tr>\n",
       "      <th>2</th>\n",
       "      <td>stage</td>\n",
       "      <td>life</td>\n",
       "      <td>day</td>\n",
       "      <td>today</td>\n",
       "      <td>officially</td>\n",
       "    </tr>\n",
       "    <tr>\n",
       "      <th>3</th>\n",
       "      <td>like</td>\n",
       "      <td>bell</td>\n",
       "      <td>today</td>\n",
       "      <td>dad</td>\n",
       "      <td>later</td>\n",
       "    </tr>\n",
       "    <tr>\n",
       "      <th>4</th>\n",
       "      <td>year</td>\n",
       "      <td>osteosarcoma</td>\n",
       "      <td>finished</td>\n",
       "      <td>died</td>\n",
       "      <td>months</td>\n",
       "    </tr>\n",
       "    <tr>\n",
       "      <th>5</th>\n",
       "      <td>years</td>\n",
       "      <td>anti-vaxxers</td>\n",
       "      <td>port</td>\n",
       "      <td>passed</td>\n",
       "      <td>pet</td>\n",
       "    </tr>\n",
       "    <tr>\n",
       "      <th>6</th>\n",
       "      <td>officially</td>\n",
       "      <td>muffins</td>\n",
       "      <td>buddy</td>\n",
       "      <td>years</td>\n",
       "      <td>scans</td>\n",
       "    </tr>\n",
       "    <tr>\n",
       "      <th>7</th>\n",
       "      <td>beat</td>\n",
       "      <td>corona</td>\n",
       "      <td>post</td>\n",
       "      <td>away</td>\n",
       "      <td>scan</td>\n",
       "    </tr>\n",
       "    <tr>\n",
       "      <th>8</th>\n",
       "      <td>surgery</td>\n",
       "      <td>christmas</td>\n",
       "      <td>session</td>\n",
       "      <td>yesterday</td>\n",
       "      <td>today</td>\n",
       "    </tr>\n",
       "    <tr>\n",
       "      <th>9</th>\n",
       "      <td>feels</td>\n",
       "      <td>youuuu</td>\n",
       "      <td>officially</td>\n",
       "      <td>fight</td>\n",
       "      <td>told</td>\n",
       "    </tr>\n",
       "    <tr>\n",
       "      <th>10</th>\n",
       "      <td>won</td>\n",
       "      <td>amen</td>\n",
       "      <td>christmas</td>\n",
       "      <td>gone</td>\n",
       "      <td>clear-</td>\n",
       "    </tr>\n",
       "    <tr>\n",
       "      <th>11</th>\n",
       "      <td>colon</td>\n",
       "      <td>right</td>\n",
       "      <td>brain</td>\n",
       "      <td>father</td>\n",
       "      <td>leukimia</td>\n",
       "    </tr>\n",
       "    <tr>\n",
       "      <th>12</th>\n",
       "      <td>just</td>\n",
       "      <td>seriously</td>\n",
       "      <td>halfway</td>\n",
       "      <td>just</td>\n",
       "      <td>suddenly</td>\n",
       "    </tr>\n",
       "    <tr>\n",
       "      <th>13</th>\n",
       "      <td>update</td>\n",
       "      <td>remedies</td>\n",
       "      <td>quit</td>\n",
       "      <td>wife</td>\n",
       "      <td>final</td>\n",
       "    </tr>\n",
       "    <tr>\n",
       "      <th>14</th>\n",
       "      <td>today</td>\n",
       "      <td>herbal</td>\n",
       "      <td>quitting</td>\n",
       "      <td>battle</td>\n",
       "      <td>diagnosis</td>\n",
       "    </tr>\n",
       "    <tr>\n",
       "      <th>15</th>\n",
       "      <td>weeks</td>\n",
       "      <td>shit</td>\n",
       "      <td>best</td>\n",
       "      <td>miss</td>\n",
       "      <td>cured</td>\n",
       "    </tr>\n",
       "    <tr>\n",
       "      <th>16</th>\n",
       "      <td>lung</td>\n",
       "      <td>pancreatic</td>\n",
       "      <td>round</td>\n",
       "      <td>year</td>\n",
       "      <td>brain</td>\n",
       "    </tr>\n",
       "    <tr>\n",
       "      <th>17</th>\n",
       "      <td>say</td>\n",
       "      <td>immunotherapy</td>\n",
       "      <td>scan</td>\n",
       "      <td>morning</td>\n",
       "      <td>free</td>\n",
       "    </tr>\n",
       "    <tr>\n",
       "      <th>18</th>\n",
       "      <td>breast</td>\n",
       "      <td>companies</td>\n",
       "      <td>completed</td>\n",
       "      <td>mum</td>\n",
       "      <td>half</td>\n",
       "    </tr>\n",
       "    <tr>\n",
       "      <th>19</th>\n",
       "      <td>diagnosed</td>\n",
       "      <td>honestly</td>\n",
       "      <td>party</td>\n",
       "      <td>news</td>\n",
       "      <td>leukemia</td>\n",
       "    </tr>\n",
       "  </tbody>\n",
       "</table>\n",
       "</div>"
      ],
      "text/plain": [
       "    Topic # 01     Topic # 02  Topic # 03 Topic # 04  Topic # 05\n",
       "0       cancer           fuck       chemo       lost   remission\n",
       "1         free         cancer   treatment        mom        year\n",
       "2        stage           life         day      today  officially\n",
       "3         like           bell       today        dad       later\n",
       "4         year   osteosarcoma    finished       died      months\n",
       "5        years   anti-vaxxers        port     passed         pet\n",
       "6   officially        muffins       buddy      years       scans\n",
       "7         beat         corona        post       away        scan\n",
       "8      surgery      christmas     session  yesterday       today\n",
       "9        feels         youuuu  officially      fight        told\n",
       "10         won           amen   christmas       gone      clear-\n",
       "11       colon          right       brain     father    leukimia\n",
       "12        just      seriously     halfway       just    suddenly\n",
       "13      update       remedies        quit       wife       final\n",
       "14       today         herbal    quitting     battle   diagnosis\n",
       "15       weeks           shit        best       miss       cured\n",
       "16        lung     pancreatic       round       year       brain\n",
       "17         say  immunotherapy        scan    morning        free\n",
       "18      breast      companies   completed        mum        half\n",
       "19   diagnosed       honestly       party       news    leukemia"
      ]
     },
     "execution_count": 295,
     "metadata": {},
     "output_type": "execute_result"
    }
   ],
   "source": [
    "num_topics = 5\n",
    "nmf_df = get_nmf_topics(model, 5)\n",
    "nmf_df"
   ]
  },
  {
   "cell_type": "code",
   "execution_count": 296,
   "id": "49822a7d",
   "metadata": {},
   "outputs": [],
   "source": [
    "raw_documents = title.str.strip()\n",
    "raw_documents= raw_documents.str.lower()\n",
    "raw_documents = raw_documents.tolist()\n",
    "raw_doc1 = [i.split() for i in raw_documents]"
   ]
  },
  {
   "cell_type": "code",
   "execution_count": 297,
   "id": "d3094c3e",
   "metadata": {},
   "outputs": [
    {
     "name": "stdout",
     "output_type": "stream",
     "text": [
      "Created 1000 X 31 document-term matrix\n"
     ]
    }
   ],
   "source": [
    "from sklearn.feature_extraction.text import CountVectorizer\n",
    "# use a custom stopwords list, set the minimum term-document frequency to 20\n",
    "vectorizer = CountVectorizer(stop_words = stop_words, min_df = 20) #custom_stop_words\n",
    "A = vectorizer.fit_transform(raw_documents)\n",
    "print( \"Created %d X %d document-term matrix\" % (A.shape[0], A.shape[1]) )"
   ]
  },
  {
   "cell_type": "code",
   "execution_count": 298,
   "id": "f7804757",
   "metadata": {},
   "outputs": [
    {
     "name": "stdout",
     "output_type": "stream",
     "text": [
      "Vocabulary has 31 distinct terms\n"
     ]
    }
   ],
   "source": [
    "terms = vectorizer.get_feature_names()\n",
    "print(\"Vocabulary has %d distinct terms\" % len(terms))"
   ]
  },
  {
   "cell_type": "code",
   "execution_count": 299,
   "id": "cf0d384b",
   "metadata": {},
   "outputs": [
    {
     "name": "stdout",
     "output_type": "stream",
     "text": [
      "Created 1000 X 31 TF-IDF-normalized document-term matrix\n"
     ]
    }
   ],
   "source": [
    "from sklearn.feature_extraction.text import TfidfVectorizer\n",
    "# we can pass in the same preprocessing parameters\n",
    "vectorizer = TfidfVectorizer(stop_words= stop_words, min_df = 20) #custom_stop_words\n",
    "A = vectorizer.fit_transform(raw_documents)\n",
    "print( \"Created %d X %d TF-IDF-normalized document-term matrix\" % (A.shape[0], A.shape[1]) )"
   ]
  },
  {
   "cell_type": "code",
   "execution_count": 300,
   "id": "d7807091",
   "metadata": {},
   "outputs": [],
   "source": [
    "import operator\n",
    "def rank_terms( A, terms ):\n",
    "    # get the sums over each column\n",
    "    sums = A.sum(axis=0)\n",
    "    # map weights to the terms\n",
    "    weights = {}\n",
    "    for col, term in enumerate(terms):\n",
    "        weights[term] = sums[0,col]\n",
    "    # rank the terms by their weight over all documents\n",
    "    return sorted(weights.items(), key=operator.itemgetter(1), reverse=True)"
   ]
  },
  {
   "cell_type": "code",
   "execution_count": 301,
   "id": "e53c577e",
   "metadata": {},
   "outputs": [
    {
     "name": "stdout",
     "output_type": "stream",
     "text": [
      "01. cancer (169.93)\n",
      "02. today (62.22)\n",
      "03. chemo (53.05)\n",
      "04. dad (42.38)\n",
      "05. mom (39.15)\n",
      "06. lost (35.83)\n",
      "07. stage (33.60)\n",
      "08. fuck (33.42)\n",
      "09. year (29.26)\n",
      "10. day (29.18)\n",
      "11. free (27.79)\n",
      "12. years (27.36)\n",
      "13. passed (27.09)\n",
      "14. treatment (23.78)\n",
      "15. time (23.12)\n",
      "16. wife (22.69)\n",
      "17. died (20.83)\n",
      "18. good (20.49)\n",
      "19. news (19.74)\n",
      "20. like (19.69)\n"
     ]
    }
   ],
   "source": [
    "ranking = rank_terms( A, terms )\n",
    "for i, pair in enumerate( ranking[0:20] ):\n",
    "    print( \"%02d. %s (%.2f)\" % ( i+1, pair[0], pair[1] ) )"
   ]
  },
  {
   "cell_type": "code",
   "execution_count": 302,
   "id": "227c3a3e",
   "metadata": {},
   "outputs": [],
   "source": [
    "k = 10\n",
    "# create the model\n",
    "from sklearn import decomposition\n",
    "model = decomposition.NMF( init=\"nndsvd\", n_components=k ) \n",
    "# apply the model and extract the two factor matrices\n",
    "W = model.fit_transform( A )\n",
    "H = model.components_"
   ]
  },
  {
   "cell_type": "code",
   "execution_count": 303,
   "id": "a6d493bd",
   "metadata": {},
   "outputs": [],
   "source": [
    "def plot_top_term_weights( terms, H, topic_index, top ):\n",
    "    # get the top terms and their weights\n",
    "    top_indices = np.argsort( H[topic_index,:] )[::-1]\n",
    "    top_terms = []\n",
    "    top_weights = []\n",
    "    for term_index in top_indices[0:top]:\n",
    "        top_terms.append( terms[term_index] )\n",
    "        top_weights.append( H[topic_index,term_index] )\n",
    "    # note we reverse the ordering for the plot\n",
    "    top_terms.reverse()\n",
    "    top_weights.reverse()\n",
    "    # create the plot\n",
    "    fig = plt.figure(figsize=(13,8))\n",
    "    # add the horizontal bar chart\n",
    "    ypos = np.arange(top)\n",
    "    ax = plt.barh(ypos, top_weights, align=\"center\", color=\"green\",tick_label=top_terms)\n",
    "    plt.xlabel(\"Term Weight\",fontsize=14)\n",
    "    plt.tight_layout()\n",
    "    plt.show()"
   ]
  },
  {
   "cell_type": "code",
   "execution_count": 304,
   "id": "3ab917b1",
   "metadata": {},
   "outputs": [
    {
     "data": {
      "image/png": "[encoded data removed]",
      "text/plain": [
       "<Figure size 936x576 with 1 Axes>"
      ]
     },
     "metadata": {
      "needs_background": "light"
     },
     "output_type": "display_data"
    }
   ],
   "source": [
    "plot_top_term_weights( terms, H, 1, 15 )"
   ]
  },
  {
   "cell_type": "markdown",
   "id": "06905f25",
   "metadata": {},
   "source": [
    "# Evaluation"
   ]
  },
  {
   "cell_type": "code",
   "execution_count": 309,
   "id": "ddee8e00",
   "metadata": {},
   "outputs": [],
   "source": [
    "lsimodel = LsiModel(corpus=corpus, num_topics=5, id2word=id2word)\n",
    "lsitopics = lsimodel.show_topics(formatted=False)\n",
    "\n",
    "ldatopics = lda_model.show_topics(formatted=False)"
   ]
  },
  {
   "cell_type": "code",
   "execution_count": 310,
   "id": "ab16df5d",
   "metadata": {},
   "outputs": [],
   "source": [
    "lsitopics = [[word for word, prob in topic] for topicid, topic in lsitopics]\n",
    "\n",
    "hdptopics = [[word for word, prob in topic] for topicid, topic in hdptopics]\n",
    "\n",
    "ldatopics = [[word for word, prob in topic] for topicid, topic in ldatopics]"
   ]
  },
  {
   "cell_type": "code",
   "execution_count": 311,
   "id": "646edaae",
   "metadata": {},
   "outputs": [],
   "source": [
    "lsi_coherence = CoherenceModel(topics=lsitopics[:10], texts=data_lemmatized, dictionary=id2word, window_size=10).get_coherence()\n",
    "\n",
    "hdp_coherence = CoherenceModel(topics=hdptopics[:10], texts=data_lemmatized, dictionary=id2word, window_size=10).get_coherence()\n",
    "\n",
    "lda_coherence = CoherenceModel(topics=ldatopics, texts=data_lemmatized, dictionary=id2word, window_size=10).get_coherence()"
   ]
  },
  {
   "cell_type": "code",
   "execution_count": 312,
   "id": "c309374f",
   "metadata": {},
   "outputs": [],
   "source": [
    "def evaluate_bar_graph(coherences, indices):\n",
    "    assert len(coherences) == len(indices)\n",
    "    n = len(coherences)\n",
    "    x = np.arange(n)\n",
    "    plt.figure(figsize=(12,12))\n",
    "    plt.bar(x, coherences, width=0.2, tick_label=indices, align='center')\n",
    "    plt.xlabel('Models')\n",
    "    plt.ylabel('Coherence Value')"
   ]
  },
  {
   "cell_type": "code",
   "execution_count": 313,
   "id": "355a3abc",
   "metadata": {},
   "outputs": [
    {
     "data": {
      "image/png": "[encoded data removed]",
      "text/plain": [
       "<Figure size 864x864 with 1 Axes>"
      ]
     },
     "metadata": {
      "needs_background": "light"
     },
     "output_type": "display_data"
    }
   ],
   "source": [
    "evaluate_bar_graph([lsi_coherence, hdp_coherence, lda_coherence],\n",
    "                   ['LSI', 'HDP', 'LDA'])"
   ]
  },
  {
   "cell_type": "markdown",
   "id": "6efab952",
   "metadata": {},
   "source": [
    "# Sentiment Analysis\n",
    "### Would be done via GPT-3"
   ]
  },
  {
   "cell_type": "code",
   "execution_count": null,
   "id": "dca75172",
   "metadata": {},
   "outputs": [],
   "source": [
    "df['Sujectivity'] = df['lemmatized_comment'].apply(getSubjectivity)\n",
    "df['Polarity'] = df['lemmatized_comment'].apply(getPolarity)\n",
    "df['Analysis'] = df['Polarity'].apply(analysis)\n",
    "df.head()"
   ]
  },
  {
   "cell_type": "code",
   "execution_count": null,
   "id": "ef83c0e2",
   "metadata": {},
   "outputs": [],
   "source": [
    "'''\n",
    "Visualization: Sentiment Analysis Plot\n",
    "- Reddit: Sentiment Polarity\n",
    "- Negative, Neutral and Positive\n",
    "'''"
   ]
  },
  {
   "cell_type": "code",
   "execution_count": null,
   "id": "897d7e83",
   "metadata": {},
   "outputs": [],
   "source": [
    "'''\n",
    "K-MEANS Clustering: Polarity vs Subjectivity\n",
    "'''"
   ]
  },
  {
   "cell_type": "markdown",
   "id": "df6b0a62",
   "metadata": {},
   "source": [
    "# Application & Insights: Next Milestone\n",
    "### Data -> Features -> Model -> Insights"
   ]
  },
  {
   "cell_type": "code",
   "execution_count": 277,
   "id": "04e30aa0",
   "metadata": {},
   "outputs": [
    {
     "data": {
      "image/png": "[encoded data removed]",
      "text/plain": [
       "<IPython.core.display.Image object>"
      ]
     },
     "execution_count": 277,
     "metadata": {},
     "output_type": "execute_result"
    }
   ],
   "source": [
    "Image(filename='img/roadmap.png')"
   ]
  },
  {
   "cell_type": "code",
   "execution_count": null,
   "id": "6c9b7513",
   "metadata": {},
   "outputs": [],
   "source": [
    "'''\n",
    "Examples: https://dash.gallery/Portal/\\\n",
    "similar project: https://dash.gallery/dash-cytoscape-lda/\n",
    "river: https://github.com/online-ml/river\n",
    "'''"
   ]
  },
  {
   "cell_type": "code",
   "execution_count": null,
   "id": "6f45cd42",
   "metadata": {},
   "outputs": [],
   "source": [
    "'''\n",
    "References:\n",
    "- https://www.kaggle.com/akashram/topic-modeling-intro-implementation/notebook\n",
    "- https://www.kaggle.com/irfanmansuri/nlp-reddit\n",
    "- GPT-3: \n",
    "- Medium: https://medium.com/analytics-vidhya/scraping-reddit-using-python-reddit-api-wrapper-praw-5c275e34a8f4\n",
    "'''"
   ]
  },
  {
   "cell_type": "code",
   "execution_count": null,
   "id": "8f49ff8b",
   "metadata": {},
   "outputs": [],
   "source": [
    "'''\n",
    "lemmatization: https://www.reddit.com/r/learnpython/comments/ostea3/problem_using_pandas_to_import_excel_sheet_to/\n",
    "'''"
   ]
  },
  {
   "cell_type": "code",
   "execution_count": null,
   "id": "950f1b23",
   "metadata": {},
   "outputs": [],
   "source": [
    "import pytextrank, spacy\n",
    "import scattertext as st\n",
    "import numpy as np\n",
    "\n",
    "\n",
    "nlp = spacy.load('en_core_web_sm', disable=['parser', 'ner'])\n",
    "nlp.add_pipe(\"textrank\", last=True)\n",
    "\n",
    "\n",
    "#Dataset \n",
    "convention_df = st.SampleCorpora.ConventionData2012.get_data(\n",
    ").assign(\n",
    "    parse=lambda df: df.text.apply(nlp),\n",
    "    party=lambda df: df.party.apply(\n",
    "        {'disease': 'vaccin', \n",
    "         'covid': 'medication'}.get\n",
    "    )\n",
    ")\n",
    "\n",
    "\n",
    "corpus = st.CorpusFromParsedDocuments(\n",
    "    convention_df,\n",
    "    category_col='party',\n",
    "    parsed_col='parse',\n",
    "    feats_from_spacy_doc=st.PyTextRankPhrases()\n",
    ").build(\n",
    ").compact(\n",
    "    st.AssociationCompactor(2000, use_non_text_features=True)\n",
    ")"
   ]
  },
  {
   "cell_type": "code",
   "execution_count": 318,
   "id": "fdfa0ad0",
   "metadata": {},
   "outputs": [
    {
     "data": {
      "text/plain": [
       "'05'"
      ]
     },
     "execution_count": 318,
     "metadata": {},
     "output_type": "execute_result"
    }
   ],
   "source": [
    "\"0\" + \"5\""
   ]
  },
  {
   "cell_type": "code",
   "execution_count": 319,
   "id": "1a9b45df",
   "metadata": {},
   "outputs": [
    {
     "data": {
      "text/plain": [
       "'hippohippohippohippohippohippohippohippohippohippohippohippo'"
      ]
     },
     "execution_count": 319,
     "metadata": {},
     "output_type": "execute_result"
    }
   ],
   "source": [
    "\"hippo\" *12"
   ]
  },
  {
   "cell_type": "code",
   "execution_count": 322,
   "id": "7ca6acbe",
   "metadata": {},
   "outputs": [
    {
     "name": "stdout",
     "output_type": "stream",
     "text": [
      "This week's total sales: 529.0\n"
     ]
    }
   ],
   "source": []
  },
  {
   "cell_type": "code",
   "execution_count": null,
   "id": "bdb86335",
   "metadata": {},
   "outputs": [],
   "source": []
  }
 ],
 "metadata": {
  "kernelspec": {
   "display_name": "Python 3 (ipykernel)",
   "language": "python",
   "name": "python3"
  },
  "language_info": {
   "codemirror_mode": {
    "name": "ipython",
    "version": 3
   },
   "file_extension": ".py",
   "mimetype": "text/x-python",
   "name": "python",
   "nbconvert_exporter": "python",
   "pygments_lexer": "ipython3",
   "version": "3.8.10"
  }
 },
 "nbformat": 4,
 "nbformat_minor": 5
}
