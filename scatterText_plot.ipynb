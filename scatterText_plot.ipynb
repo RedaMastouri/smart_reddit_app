{
 "cells": [
  {
   "cell_type": "code",
   "execution_count": 8,
   "id": "cbf72d26",
   "metadata": {},
   "outputs": [],
   "source": [
    "def scattertextplot(convention_df):\n",
    "    #librairies\n",
    "    %matplotlib inline\n",
    "    import scattertext as st\n",
    "    import re, io\n",
    "    from pprint import pprint\n",
    "    import pandas as pd\n",
    "    import numpy as np\n",
    "    import spacy\n",
    "    from scipy.stats import rankdata, hmean, norm\n",
    "    import os, pkgutil, json, urllib\n",
    "    from urllib.request import urlopen\n",
    "    from IPython.display import IFrame\n",
    "    from IPython.core.display import display, HTML\n",
    "    from scattertext import CorpusFromPandas, produce_scattertext_explorer\n",
    "    display(HTML(\"<style>.container { width:98% !important; }</style>\"))\n",
    "    \n",
    "    #NLP\n",
    "    from spacy.lang.en import English\n",
    "\n",
    "    raw_text = 'Hello, world. Here are two sentences.'\n",
    "    nlp = English()\n",
    "    nlp.add_pipe('sentencizer')\n",
    "    doc = nlp(raw_text)\n",
    "    \n",
    "    convention_df.groupby('comments').apply(lambda x: x.comments.apply(lambda x: len(x.split())).sum())\n",
    "    convention_df['parsed'] = convention_df.title.apply(nlp)\n",
    "    \n",
    "    #Corpus\n",
    "    corpus = st.CorpusFromParsedDocuments(convention_df, category_col='title', parsed_col='parsed').build()\n",
    "    \n",
    "    #Stats\n",
    "    term_freq_df = corpus.get_term_freq_df()\n",
    "    term_freq_df['cure_precision'] = term_freq_df['CANCER FREE!! freq'] * 1./(term_freq_df['It’s over freq'] + term_freq_df['Goodbye my sweet angel. I Lost my 5 year old daughter last night to complications from the treatment for stage IV alveolar rhabdomyosarcoma. No more tubes, no more pokes, no more drugs making her feel sick. No more pain. freq'])\n",
    "    term_freq_df['cure_recall'] = term_freq_df['Officially 12 months cancer free freq'] * 1./term_freq_df['My initial prognosis was, \"a few months\". I recently celebrated my 3rd post diagnosis birthday! freq'].sum()\n",
    "    term_freq_df['cure_f_score'] = term_freq_df.apply(lambda x: (hmean([x['cure_precision'], x['cure_recall']])\n",
    "                                                                       if x['cure_precision'] > 0 and x['cure_recall'] > 0 \n",
    "                                                                       else 0), axis=1)     \n",
    "    #precision and recall\n",
    "    term_freq_df['cure_precision_pctl'] = rankdata(term_freq_df['cure_precision'])*1./len(term_freq_df)\n",
    "    term_freq_df['cure_recall_pctl'] = rankdata(term_freq_df['cure_recall'])*1./len(term_freq_df)\n",
    "    \n",
    "    #Normalizing \n",
    "    def normcdf(x):\n",
    "        return norm.cdf(x, x.mean(), x.std())\n",
    "    \n",
    "    #calc\n",
    "    term_freq_df['cure_precision_normcdf'] = normcdf(term_freq_df['cure_precision'])\n",
    "    term_freq_df['cure_recall_normcdf'] = normcdf(term_freq_df['cure_recall'])\n",
    "    \n",
    "    #Override\n",
    "    term_freq_df['cure_precision_normcdf'].fillna(5)\n",
    "    \n",
    "    #Cure\n",
    "    term_freq_df['dem_corner_score'] = corpus.get_rudder_scores('cure')\n",
    "    \n",
    "    #HTML\n",
    "    html = produce_scattertext_explorer(corpus,\n",
    "                                        category='cure',\n",
    "                                        category_name='cure',\n",
    "                                        not_category_name='disease',\n",
    "                                        width_in_pixels=1000,\n",
    "                                        minimum_term_frequency=5,\n",
    "\n",
    "                                        pmi_filter_thresold=4,\n",
    "                                        metadata=convention_df['comments'],\n",
    "                                        term_significance = st.LogOddsRatioUninformativeDirichletPrior())\n",
    "    file_name = 'Conventions2012ScattertextScale.html'\n",
    "    open(file_name, 'wb').write(html.encode('utf-8'))\n",
    "    page = IFrame(src=file_name, width = 1200, height=700)\n",
    "    \n",
    "    return page"
   ]
  },
  {
   "cell_type": "code",
   "execution_count": 9,
   "id": "869f7d0d",
   "metadata": {},
   "outputs": [],
   "source": [
    "import pandas as pd\n",
    "cancer = pd.read_csv('dataset/cancer.csv')"
   ]
  },
  {
   "cell_type": "code",
   "execution_count": 10,
   "id": "1ca6533e",
   "metadata": {},
   "outputs": [
    {
     "data": {
      "text/html": [
       "<style>.container { width:98% !important; }</style>"
      ],
      "text/plain": [
       "<IPython.core.display.HTML object>"
      ]
     },
     "metadata": {},
     "output_type": "display_data"
    },
    {
     "data": {
      "text/html": [
       "\n",
       "        <iframe\n",
       "            width=\"1200\"\n",
       "            height=\"700\"\n",
       "            src=\"Conventions2012ScattertextScale.html\"\n",
       "            frameborder=\"0\"\n",
       "            allowfullscreen\n",
       "            \n",
       "        ></iframe>\n",
       "        "
      ],
      "text/plain": [
       "<IPython.lib.display.IFrame at 0x267873426a0>"
      ]
     },
     "execution_count": 10,
     "metadata": {},
     "output_type": "execute_result"
    }
   ],
   "source": [
    "scattertextplot(cancer)"
   ]
  },
  {
   "cell_type": "code",
   "execution_count": null,
   "id": "aeac8f4a",
   "metadata": {},
   "outputs": [],
   "source": []
  }
 ],
 "metadata": {
  "kernelspec": {
   "display_name": "Python 3 (ipykernel)",
   "language": "python",
   "name": "python3"
  },
  "language_info": {
   "codemirror_mode": {
    "name": "ipython",
    "version": 3
   },
   "file_extension": ".py",
   "mimetype": "text/x-python",
   "name": "python",
   "nbconvert_exporter": "python",
   "pygments_lexer": "ipython3",
   "version": "3.8.10"
  }
 },
 "nbformat": 4,
 "nbformat_minor": 5
}
